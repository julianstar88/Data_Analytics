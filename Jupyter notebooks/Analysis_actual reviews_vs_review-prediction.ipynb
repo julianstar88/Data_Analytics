{
 "cells": [
  {
   "cell_type": "code",
   "execution_count": 37,
   "id": "5956411d-d636-4139-932b-8f0b26c475a3",
   "metadata": {},
   "outputs": [],
   "source": [
    "import pandas as pd\n",
    "import numpy as np\n",
    "\n",
    "from sklearn.metrics import mean_squared_error\n",
    "from sklearn.metrics import r2_score\n",
    "from sklearn.metrics import accuracy_score"
   ]
  },
  {
   "cell_type": "code",
   "execution_count": 12,
   "id": "c038b00e-49ab-482b-aecb-625db6d74dba",
   "metadata": {},
   "outputs": [],
   "source": [
    "def load_csv(city):\n",
    "    needed_columns = ['review_scores_rating','xgb_predict_avg','rf_predict_avg']\n",
    "    return pd.read_csv(f'../data/cities/finished/listings_{city}_finished.csv', usecols=needed_columns)"
   ]
  },
  {
   "cell_type": "code",
   "execution_count": 61,
   "id": "881d12f3-656d-439d-bbea-ed9d546f076f",
   "metadata": {},
   "outputs": [],
   "source": [
    "def print_ml_statistics(df):\n",
    "    result = np.sqrt(mean_squared_error(df.review_scores_rating, df.xgb_predict_avg))\n",
    "    print(f'RMSE XGBoost: {result}')\n",
    "    \n",
    "    result = np.sqrt(mean_squared_error(df.review_scores_rating, df.rf_predict_avg))\n",
    "    print(f'RMSE RandomForest: {result}')\n",
    "\n",
    "    result = r2_score(df.review_scores_rating, df.xgb_predict_avg)\n",
    "    print(f'r2_score XGBoost: {result}')\n",
    "    \n",
    "    result = r2_score(df.review_scores_rating, df.rf_predict_avg)\n",
    "    print(f'r2_score RandomForest: {result}')\n",
    "    \n",
    "    result = accuracy_score(np.round(df.review_scores_rating).astype('int'), np.round(df.xgb_predict_avg).astype('int'))\n",
    "    print(f'accuracy XGBoost: {result}')\n",
    "    \n",
    "    result = accuracy_score(np.round(df.review_scores_rating).astype('int'), np.round(df.rf_predict_avg).astype('int'))\n",
    "    print(f'accuracy RandomForest: {result}') \n",
    "\n",
    "    print('Mean comparisson')\n",
    "    \n",
    "    df['mean'] = df.review_scores_rating.mean()\n",
    "\n",
    "    result = np.sqrt(mean_squared_error(df.review_scores_rating, df['mean']))\n",
    "    print(f'RMSE mean: {result}')\n",
    "\n",
    "    result = np.sqrt(r2_score(df.review_scores_rating, df['mean']))\n",
    "    print(f'r2_score mean: {result}')\n",
    "\n",
    "    result = accuracy_score(np.round(df.review_scores_rating).astype('int'), np.round(df['mean']).astype('int'))\n",
    "    print(f'accuracy mean: {result}')\n"
   ]
  },
  {
   "cell_type": "code",
   "execution_count": 62,
   "id": "0738d5de-d64d-45c2-9044-6c0d932dac3e",
   "metadata": {},
   "outputs": [
    {
     "name": "stdout",
     "output_type": "stream",
     "text": [
      "RMSE XGBoost: 0.23104299694600555\n",
      "RMSE RandomForest: 0.2305485191843467\n",
      "r2_score XGBoost: -0.0009752725276919172\n",
      "r2_score RandomForest: 0.00330471312480507\n",
      "accuracy XGBoost: 0.931950745301361\n",
      "accuracy RandomForest: 0.9252106286454957\n",
      "Mean comparisson\n",
      "RMSE mean: 0.23093041434453632\n",
      "r2_score mean: 0.0\n",
      "accuracy mean: 0.9231367465975373\n"
     ]
    }
   ],
   "source": [
    "print_ml_statistics(load_csv('Amsterdam'))"
   ]
  },
  {
   "cell_type": "code",
   "execution_count": 63,
   "id": "c18271f4-b8e3-42e1-8cad-a2499b47f2c7",
   "metadata": {},
   "outputs": [
    {
     "name": "stdout",
     "output_type": "stream",
     "text": [
      "RMSE XGBoost: 0.38176040468489514\n",
      "RMSE RandomForest: 0.37472557352018376\n",
      "r2_score XGBoost: 0.08385748737313137\n",
      "r2_score RandomForest: 0.11731054612963576\n",
      "accuracy XGBoost: 0.8174196553330229\n",
      "accuracy RandomForest: 0.8188169538891477\n",
      "Mean comparisson\n",
      "RMSE mean: 0.39884978664401527\n",
      "r2_score mean: 0.0\n",
      "accuracy mean: 0.775966464834653\n"
     ]
    }
   ],
   "source": [
    "print_ml_statistics(load_csv('Antwerp'))"
   ]
  },
  {
   "cell_type": "code",
   "execution_count": 64,
   "id": "eb9ecf03-9d8c-4d0a-b9d0-ed61c612f600",
   "metadata": {},
   "outputs": [
    {
     "name": "stdout",
     "output_type": "stream",
     "text": [
      "RMSE XGBoost: 0.31690915886024046\n",
      "RMSE RandomForest: 0.30572024595014163\n",
      "r2_score XGBoost: -0.01806114278112858\n",
      "r2_score RandomForest: 0.05255789582541348\n",
      "accuracy XGBoost: 0.8686534216335541\n",
      "accuracy RandomForest: 0.8642384105960265\n",
      "Mean comparisson\n",
      "RMSE mean: 0.3140854801702917\n",
      "r2_score mean: 0.0\n",
      "accuracy mean: 0.8388520971302428\n"
     ]
    }
   ],
   "source": [
    "print_ml_statistics(load_csv('Rotterdam'))"
   ]
  },
  {
   "cell_type": "code",
   "execution_count": 65,
   "id": "7ee9091a-87b7-46ec-983d-1af6a43c0937",
   "metadata": {},
   "outputs": [
    {
     "name": "stdout",
     "output_type": "stream",
     "text": [
      "RMSE XGBoost: 0.30668211559073877\n",
      "RMSE RandomForest: 0.3065237607360384\n",
      "r2_score XGBoost: 0.5605499671494588\n",
      "r2_score RandomForest: 0.5610036687281494\n",
      "accuracy XGBoost: 0.901825221238938\n",
      "accuracy RandomForest: 0.8945120452310718\n",
      "Mean comparisson\n",
      "RMSE mean: 0.46262990197038356\n",
      "r2_score mean: 0.0\n",
      "accuracy mean: 0.8673795476892822\n"
     ]
    }
   ],
   "source": [
    "print_ml_statistics(load_csv('LosAngeles'))"
   ]
  },
  {
   "cell_type": "code",
   "execution_count": 70,
   "id": "bc73ef55-8cbb-4c72-b6fd-63ae5b2e1e6a",
   "metadata": {},
   "outputs": [
    {
     "name": "stdout",
     "output_type": "stream",
     "text": [
      "(32544, 3)\n",
      "(1052, 3)\n"
     ]
    }
   ],
   "source": [
    "test = load_csv('LosAngeles')\n",
    "print(test.shape)\n",
    "print(test[test.review_scores_rating < 4].shape)"
   ]
  },
  {
   "cell_type": "code",
   "execution_count": 71,
   "id": "36e37f27-b801-4684-a67b-24f3f9c54966",
   "metadata": {},
   "outputs": [
    {
     "name": "stdout",
     "output_type": "stream",
     "text": [
      "(2147, 3)\n",
      "(103, 3)\n"
     ]
    }
   ],
   "source": [
    "test = load_csv('Antwerp')\n",
    "print(test.shape)\n",
    "print(test[test.review_scores_rating < 4].shape)"
   ]
  },
  {
   "cell_type": "code",
   "execution_count": 69,
   "id": "f9383bc0-1582-4883-86ff-5689698c4cf7",
   "metadata": {},
   "outputs": [
    {
     "data": {
      "text/plain": [
       "(1052, 3)"
      ]
     },
     "execution_count": 69,
     "metadata": {},
     "output_type": "execute_result"
    }
   ],
   "source": []
  },
  {
   "cell_type": "code",
   "execution_count": null,
   "id": "aab81597-878c-4c8d-af05-bd610caae541",
   "metadata": {},
   "outputs": [],
   "source": []
  }
 ],
 "metadata": {
  "kernelspec": {
   "display_name": "Python 3 (ipykernel)",
   "language": "python",
   "name": "python3"
  },
  "language_info": {
   "codemirror_mode": {
    "name": "ipython",
    "version": 3
   },
   "file_extension": ".py",
   "mimetype": "text/x-python",
   "name": "python",
   "nbconvert_exporter": "python",
   "pygments_lexer": "ipython3",
   "version": "3.11.9"
  }
 },
 "nbformat": 4,
 "nbformat_minor": 5
}
