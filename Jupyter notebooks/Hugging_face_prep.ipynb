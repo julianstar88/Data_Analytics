{
 "cells": [
  {
   "cell_type": "markdown",
   "id": "2256ebbd-c1b1-4fc7-b023-ad7413221666",
   "metadata": {},
   "source": [
    "# Review to 5 star pipeline"
   ]
  },
  {
   "cell_type": "markdown",
   "id": "f4574655-27c4-44b7-831d-3c582f1d534d",
   "metadata": {},
   "source": [
    "## Using a llm to create input numbers as features for ML algorithms later down the pipeline. "
   ]
  },
  {
   "cell_type": "markdown",
   "id": "d3d1272e-fbd7-4f0f-aeeb-8d6c74d9d654",
   "metadata": {},
   "source": [
    "The selected llm is not able to create 5 star reviews directly. Therefore we'll use it for feature generation. The other caveat is that the model was trained for Amazon reviews (positive/negative). But we are confident, that the created targets will be useful in the Airbnb 5 star assessment."
   ]
  },
  {
   "cell_type": "code",
   "execution_count": 1,
   "id": "3ec801a6-0f5b-405c-9e45-42e22039a8b5",
   "metadata": {},
   "outputs": [],
   "source": [
    "from transformers import DistilBertTokenizer, DistilBertForSequenceClassification\n",
    "\n",
    "model_name = \"sohan-ai/sentiment-analysis-model-amazon-reviews\"\n",
    "tokenizer = DistilBertTokenizer.from_pretrained(\"distilbert-base-uncased\")\n",
    "model = DistilBertForSequenceClassification.from_pretrained(model_name)\n",
    "\n",
    "import pandas as pd "
   ]
  },
  {
   "cell_type": "code",
   "execution_count": 2,
   "id": "122184b7-9270-46ff-9319-d9492ee7c745",
   "metadata": {},
   "outputs": [],
   "source": [
    "df = pd.read_csv('../data/machine_learning/kaggle_data_reduced.csv.gz', compression='gzip')\n"
   ]
  },
  {
   "cell_type": "code",
   "execution_count": 3,
   "id": "ca52f0d1-6d60-4c5a-b85e-8ea346f18a11",
   "metadata": {},
   "outputs": [
    {
     "data": {
      "text/html": [
       "<div>\n",
       "<style scoped>\n",
       "    .dataframe tbody tr th:only-of-type {\n",
       "        vertical-align: middle;\n",
       "    }\n",
       "\n",
       "    .dataframe tbody tr th {\n",
       "        vertical-align: top;\n",
       "    }\n",
       "\n",
       "    .dataframe thead th {\n",
       "        text-align: right;\n",
       "    }\n",
       "</style>\n",
       "<table border=\"1\" class=\"dataframe\">\n",
       "  <thead>\n",
       "    <tr style=\"text-align: right;\">\n",
       "      <th></th>\n",
       "      <th>Review</th>\n",
       "      <th>Rating</th>\n",
       "      <th>Origin</th>\n",
       "    </tr>\n",
       "  </thead>\n",
       "  <tbody>\n",
       "    <tr>\n",
       "      <th>0</th>\n",
       "      <td>nice hotel expensive parking got good deal sta...</td>\n",
       "      <td>4</td>\n",
       "      <td>thedevastator</td>\n",
       "    </tr>\n",
       "    <tr>\n",
       "      <th>1</th>\n",
       "      <td>ok nothing special charge diamond member hilto...</td>\n",
       "      <td>2</td>\n",
       "      <td>thedevastator</td>\n",
       "    </tr>\n",
       "    <tr>\n",
       "      <th>2</th>\n",
       "      <td>nice rooms not 4* experience hotel monaco seat...</td>\n",
       "      <td>3</td>\n",
       "      <td>thedevastator</td>\n",
       "    </tr>\n",
       "    <tr>\n",
       "      <th>3</th>\n",
       "      <td>unique \\tgreat stay \\twonderful time hotel mon...</td>\n",
       "      <td>5</td>\n",
       "      <td>thedevastator</td>\n",
       "    </tr>\n",
       "    <tr>\n",
       "      <th>4</th>\n",
       "      <td>great stay great stay \\twent seahawk game awes...</td>\n",
       "      <td>5</td>\n",
       "      <td>thedevastator</td>\n",
       "    </tr>\n",
       "  </tbody>\n",
       "</table>\n",
       "</div>"
      ],
      "text/plain": [
       "                                              Review  Rating         Origin\n",
       "0  nice hotel expensive parking got good deal sta...       4  thedevastator\n",
       "1  ok nothing special charge diamond member hilto...       2  thedevastator\n",
       "2  nice rooms not 4* experience hotel monaco seat...       3  thedevastator\n",
       "3  unique \\tgreat stay \\twonderful time hotel mon...       5  thedevastator\n",
       "4  great stay great stay \\twent seahawk game awes...       5  thedevastator"
      ]
     },
     "execution_count": 3,
     "metadata": {},
     "output_type": "execute_result"
    }
   ],
   "source": [
    "df.head()"
   ]
  },
  {
   "cell_type": "markdown",
   "id": "c375d94b-79c1-4f18-ae20-a50f3a9aeb30",
   "metadata": {},
   "source": [
    "## Examples"
   ]
  },
  {
   "cell_type": "code",
   "execution_count": 90,
   "id": "e410b1f0-8ea9-4d49-8741-98a7e96c6234",
   "metadata": {},
   "outputs": [
    {
     "name": "stdout",
     "output_type": "stream",
     "text": [
      "What a shitty room.\n",
      "[[ 1.7646039 -1.7241373]]\n",
      "I loved the whole area.\n",
      "[[-2.4363034  2.4713895]]\n",
      "Some was good and some was bad.\n",
      "[[ 0.59663886 -0.6075468 ]]\n"
     ]
    }
   ],
   "source": [
    "def print_label_and_logits(text):\n",
    "    print(text)\n",
    "    inputs = tokenizer(text, return_tensors=\"pt\")\n",
    "    outputs = model(**inputs)\n",
    "    predicted_label = \"positive\" if outputs.logits.argmax().item() == 1 else \"negative\"\n",
    "    logits = outputs.logits.detach().numpy()\n",
    "    print(logits)\n",
    "\n",
    "print_label_and_logits(\"What a shitty room.\")\n",
    "print_label_and_logits(\"I loved the whole area.\")\n",
    "print_label_and_logits(\"Some was good and some was bad.\")"
   ]
  },
  {
   "cell_type": "code",
   "execution_count": 91,
   "id": "37dcbc5c-ebab-4e2d-859f-ba96ca9c009c",
   "metadata": {},
   "outputs": [
    {
     "data": {
      "text/plain": [
       "0        nice hotel expensive parking got good deal sta...\n",
       "1        ok nothing special charge diamond member hilto...\n",
       "2        nice rooms not 4* experience hotel monaco seat...\n",
       "3        unique \\tgreat stay \\twonderful time hotel mon...\n",
       "4        great stay great stay \\twent seahawk game awes...\n",
       "                               ...                        \n",
       "41976    best kept secret 3rd time staying charm, not 5...\n",
       "41977    great location price view hotel great quick pl...\n",
       "41978    ok just looks nice modern outside, desk staff ...\n",
       "41979    hotel theft ruined vacation hotel opened sept ...\n",
       "41980    people talking, ca n't believe excellent ratin...\n",
       "Name: Review, Length: 41981, dtype: object"
      ]
     },
     "execution_count": 91,
     "metadata": {},
     "output_type": "execute_result"
    }
   ],
   "source": [
    "df.Review"
   ]
  },
  {
   "cell_type": "code",
   "execution_count": 4,
   "id": "7e8e3da4-7da8-4d59-ba47-a71e17e0eb8d",
   "metadata": {},
   "outputs": [],
   "source": [
    "def add_sentiment_features(row):\n",
    "    text = row['Review']\n",
    "    inputs = tokenizer(text, return_tensors=\"pt\")\n",
    "    \n",
    "    outputs = model(**inputs)\n",
    "    logits = outputs.logits.detach().numpy()\n",
    "    return logits[0][0], logits[0][1]\n",
    "\n",
    "    "
   ]
  },
  {
   "cell_type": "code",
   "execution_count": 7,
   "id": "723f57be-6daa-49e1-b051-13f7c41cda41",
   "metadata": {},
   "outputs": [],
   "source": [
    "df['Review'] = df['Review'].apply(lambda x: x[:512] if len(x) > 512 else x)\n",
    "\n",
    "df['feature_1'], df['feature_2'] = zip(*df.apply(add_sentiment_features, axis=1))"
   ]
  },
  {
   "cell_type": "code",
   "execution_count": 9,
   "id": "273ae2ec-7386-4b50-8014-9a79b20f9de3",
   "metadata": {},
   "outputs": [],
   "source": [
    "df.to_csv('kaggle_data_reduced_enriched.csv.gz', compression='gzip', index=False)"
   ]
  },
  {
   "cell_type": "code",
   "execution_count": 11,
   "id": "5bd4b3a2-0822-47c3-8779-3aef627aa9df",
   "metadata": {},
   "outputs": [],
   "source": [
    "df = pd.read_csv('kaggle_data_reduced_enriched.csv.gz', compression='gzip')"
   ]
  },
  {
   "cell_type": "markdown",
   "id": "f554d770-ec9f-40f4-9b4d-e9a19aa94738",
   "metadata": {},
   "source": [
    "### Sample check"
   ]
  },
  {
   "cell_type": "code",
   "execution_count": 17,
   "id": "39533efc-1852-4add-ae29-8efc71ee9904",
   "metadata": {},
   "outputs": [
    {
     "data": {
      "text/html": [
       "<div>\n",
       "<style scoped>\n",
       "    .dataframe tbody tr th:only-of-type {\n",
       "        vertical-align: middle;\n",
       "    }\n",
       "\n",
       "    .dataframe tbody tr th {\n",
       "        vertical-align: top;\n",
       "    }\n",
       "\n",
       "    .dataframe thead th {\n",
       "        text-align: right;\n",
       "    }\n",
       "</style>\n",
       "<table border=\"1\" class=\"dataframe\">\n",
       "  <thead>\n",
       "    <tr style=\"text-align: right;\">\n",
       "      <th></th>\n",
       "      <th>Review</th>\n",
       "      <th>Rating</th>\n",
       "      <th>Origin</th>\n",
       "      <th>feature_1</th>\n",
       "      <th>feature_2</th>\n",
       "    </tr>\n",
       "  </thead>\n",
       "  <tbody>\n",
       "    <tr>\n",
       "      <th>0</th>\n",
       "      <td>nice hotel expensive parking got good deal sta...</td>\n",
       "      <td>4</td>\n",
       "      <td>thedevastator</td>\n",
       "      <td>1.226591</td>\n",
       "      <td>-1.141270</td>\n",
       "    </tr>\n",
       "    <tr>\n",
       "      <th>1</th>\n",
       "      <td>ok nothing special charge diamond member hilto...</td>\n",
       "      <td>2</td>\n",
       "      <td>thedevastator</td>\n",
       "      <td>1.961799</td>\n",
       "      <td>-1.924461</td>\n",
       "    </tr>\n",
       "    <tr>\n",
       "      <th>2</th>\n",
       "      <td>nice rooms not 4* experience hotel monaco seat...</td>\n",
       "      <td>3</td>\n",
       "      <td>thedevastator</td>\n",
       "      <td>1.532970</td>\n",
       "      <td>-1.514355</td>\n",
       "    </tr>\n",
       "    <tr>\n",
       "      <th>3</th>\n",
       "      <td>unique \\tgreat stay \\twonderful time hotel mon...</td>\n",
       "      <td>5</td>\n",
       "      <td>thedevastator</td>\n",
       "      <td>-2.233017</td>\n",
       "      <td>2.234149</td>\n",
       "    </tr>\n",
       "    <tr>\n",
       "      <th>4</th>\n",
       "      <td>great stay great stay \\twent seahawk game awes...</td>\n",
       "      <td>5</td>\n",
       "      <td>thedevastator</td>\n",
       "      <td>-0.810025</td>\n",
       "      <td>0.717870</td>\n",
       "    </tr>\n",
       "    <tr>\n",
       "      <th>5</th>\n",
       "      <td>love monaco staff husband stayed hotel crazy w...</td>\n",
       "      <td>5</td>\n",
       "      <td>thedevastator</td>\n",
       "      <td>-1.774060</td>\n",
       "      <td>1.732892</td>\n",
       "    </tr>\n",
       "    <tr>\n",
       "      <th>6</th>\n",
       "      <td>cozy stay rainy city \\thusband spent 7 nights ...</td>\n",
       "      <td>5</td>\n",
       "      <td>thedevastator</td>\n",
       "      <td>-2.544452</td>\n",
       "      <td>2.578069</td>\n",
       "    </tr>\n",
       "    <tr>\n",
       "      <th>7</th>\n",
       "      <td>excellent staff \\thousekeeping quality hotel c...</td>\n",
       "      <td>4</td>\n",
       "      <td>thedevastator</td>\n",
       "      <td>-2.103502</td>\n",
       "      <td>2.095607</td>\n",
       "    </tr>\n",
       "    <tr>\n",
       "      <th>8</th>\n",
       "      <td>hotel stayed hotel monaco cruise \\trooms gener...</td>\n",
       "      <td>5</td>\n",
       "      <td>thedevastator</td>\n",
       "      <td>-1.813200</td>\n",
       "      <td>1.774499</td>\n",
       "    </tr>\n",
       "    <tr>\n",
       "      <th>9</th>\n",
       "      <td>excellent stayed hotel monaco past w/e delight...</td>\n",
       "      <td>5</td>\n",
       "      <td>thedevastator</td>\n",
       "      <td>-2.214024</td>\n",
       "      <td>2.216177</td>\n",
       "    </tr>\n",
       "    <tr>\n",
       "      <th>10</th>\n",
       "      <td>poor value stayed monaco seattle july \\tnice h...</td>\n",
       "      <td>2</td>\n",
       "      <td>thedevastator</td>\n",
       "      <td>2.875161</td>\n",
       "      <td>-2.757959</td>\n",
       "    </tr>\n",
       "    <tr>\n",
       "      <th>11</th>\n",
       "      <td>nice value seattle stayed 4 nights late 2007. ...</td>\n",
       "      <td>4</td>\n",
       "      <td>thedevastator</td>\n",
       "      <td>-2.849889</td>\n",
       "      <td>2.896052</td>\n",
       "    </tr>\n",
       "    <tr>\n",
       "      <th>12</th>\n",
       "      <td>nice hotel good location hotel kimpton design ...</td>\n",
       "      <td>4</td>\n",
       "      <td>thedevastator</td>\n",
       "      <td>-1.963916</td>\n",
       "      <td>1.966879</td>\n",
       "    </tr>\n",
       "    <tr>\n",
       "      <th>13</th>\n",
       "      <td>nice hotel not nice staff hotel lovely staff q...</td>\n",
       "      <td>3</td>\n",
       "      <td>thedevastator</td>\n",
       "      <td>1.542274</td>\n",
       "      <td>-1.504782</td>\n",
       "    </tr>\n",
       "    <tr>\n",
       "      <th>14</th>\n",
       "      <td>great hotel night quick business trip \\tloved ...</td>\n",
       "      <td>4</td>\n",
       "      <td>thedevastator</td>\n",
       "      <td>-1.974370</td>\n",
       "      <td>1.940350</td>\n",
       "    </tr>\n",
       "    <tr>\n",
       "      <th>15</th>\n",
       "      <td>horrible customer service hotel stay february ...</td>\n",
       "      <td>1</td>\n",
       "      <td>thedevastator</td>\n",
       "      <td>3.499080</td>\n",
       "      <td>-3.329744</td>\n",
       "    </tr>\n",
       "    <tr>\n",
       "      <th>16</th>\n",
       "      <td>disappointed say anticipating stay hotel monac...</td>\n",
       "      <td>2</td>\n",
       "      <td>thedevastator</td>\n",
       "      <td>4.199814</td>\n",
       "      <td>-4.020397</td>\n",
       "    </tr>\n",
       "    <tr>\n",
       "      <th>17</th>\n",
       "      <td>fantastic stay monaco seattle hotel monaco hol...</td>\n",
       "      <td>5</td>\n",
       "      <td>thedevastator</td>\n",
       "      <td>-2.003252</td>\n",
       "      <td>1.981512</td>\n",
       "    </tr>\n",
       "    <tr>\n",
       "      <th>18</th>\n",
       "      <td>good choice hotel recommended sister \\tgreat l...</td>\n",
       "      <td>5</td>\n",
       "      <td>thedevastator</td>\n",
       "      <td>-2.162447</td>\n",
       "      <td>2.168910</td>\n",
       "    </tr>\n",
       "    <tr>\n",
       "      <th>19</th>\n",
       "      <td>hmmmmm say really high hopes hotel monaco chos...</td>\n",
       "      <td>3</td>\n",
       "      <td>thedevastator</td>\n",
       "      <td>3.091433</td>\n",
       "      <td>-2.927092</td>\n",
       "    </tr>\n",
       "  </tbody>\n",
       "</table>\n",
       "</div>"
      ],
      "text/plain": [
       "                                               Review  Rating         Origin  \\\n",
       "0   nice hotel expensive parking got good deal sta...       4  thedevastator   \n",
       "1   ok nothing special charge diamond member hilto...       2  thedevastator   \n",
       "2   nice rooms not 4* experience hotel monaco seat...       3  thedevastator   \n",
       "3   unique \\tgreat stay \\twonderful time hotel mon...       5  thedevastator   \n",
       "4   great stay great stay \\twent seahawk game awes...       5  thedevastator   \n",
       "5   love monaco staff husband stayed hotel crazy w...       5  thedevastator   \n",
       "6   cozy stay rainy city \\thusband spent 7 nights ...       5  thedevastator   \n",
       "7   excellent staff \\thousekeeping quality hotel c...       4  thedevastator   \n",
       "8   hotel stayed hotel monaco cruise \\trooms gener...       5  thedevastator   \n",
       "9   excellent stayed hotel monaco past w/e delight...       5  thedevastator   \n",
       "10  poor value stayed monaco seattle july \\tnice h...       2  thedevastator   \n",
       "11  nice value seattle stayed 4 nights late 2007. ...       4  thedevastator   \n",
       "12  nice hotel good location hotel kimpton design ...       4  thedevastator   \n",
       "13  nice hotel not nice staff hotel lovely staff q...       3  thedevastator   \n",
       "14  great hotel night quick business trip \\tloved ...       4  thedevastator   \n",
       "15  horrible customer service hotel stay february ...       1  thedevastator   \n",
       "16  disappointed say anticipating stay hotel monac...       2  thedevastator   \n",
       "17  fantastic stay monaco seattle hotel monaco hol...       5  thedevastator   \n",
       "18  good choice hotel recommended sister \\tgreat l...       5  thedevastator   \n",
       "19  hmmmmm say really high hopes hotel monaco chos...       3  thedevastator   \n",
       "\n",
       "    feature_1  feature_2  \n",
       "0    1.226591  -1.141270  \n",
       "1    1.961799  -1.924461  \n",
       "2    1.532970  -1.514355  \n",
       "3   -2.233017   2.234149  \n",
       "4   -0.810025   0.717870  \n",
       "5   -1.774060   1.732892  \n",
       "6   -2.544452   2.578069  \n",
       "7   -2.103502   2.095607  \n",
       "8   -1.813200   1.774499  \n",
       "9   -2.214024   2.216177  \n",
       "10   2.875161  -2.757959  \n",
       "11  -2.849889   2.896052  \n",
       "12  -1.963916   1.966879  \n",
       "13   1.542274  -1.504782  \n",
       "14  -1.974370   1.940350  \n",
       "15   3.499080  -3.329744  \n",
       "16   4.199814  -4.020397  \n",
       "17  -2.003252   1.981512  \n",
       "18  -2.162447   2.168910  \n",
       "19   3.091433  -2.927092  "
      ]
     },
     "execution_count": 17,
     "metadata": {},
     "output_type": "execute_result"
    }
   ],
   "source": [
    "df.head(20)"
   ]
  },
  {
   "cell_type": "markdown",
   "id": "c3476696-0779-4fb8-9715-c4400aa10b62",
   "metadata": {},
   "source": [
    "### Correlation check"
   ]
  },
  {
   "cell_type": "code",
   "execution_count": 16,
   "id": "4e016fdf-bd1d-423b-809e-2f90a7836271",
   "metadata": {},
   "outputs": [
    {
     "data": {
      "text/html": [
       "<div>\n",
       "<style scoped>\n",
       "    .dataframe tbody tr th:only-of-type {\n",
       "        vertical-align: middle;\n",
       "    }\n",
       "\n",
       "    .dataframe tbody tr th {\n",
       "        vertical-align: top;\n",
       "    }\n",
       "\n",
       "    .dataframe thead th {\n",
       "        text-align: right;\n",
       "    }\n",
       "</style>\n",
       "<table border=\"1\" class=\"dataframe\">\n",
       "  <thead>\n",
       "    <tr style=\"text-align: right;\">\n",
       "      <th></th>\n",
       "      <th>Rating</th>\n",
       "      <th>feature_1</th>\n",
       "      <th>feature_2</th>\n",
       "    </tr>\n",
       "  </thead>\n",
       "  <tbody>\n",
       "    <tr>\n",
       "      <th>Rating</th>\n",
       "      <td>1.000000</td>\n",
       "      <td>-0.731518</td>\n",
       "      <td>0.728809</td>\n",
       "    </tr>\n",
       "    <tr>\n",
       "      <th>feature_1</th>\n",
       "      <td>-0.731518</td>\n",
       "      <td>1.000000</td>\n",
       "      <td>-0.999635</td>\n",
       "    </tr>\n",
       "    <tr>\n",
       "      <th>feature_2</th>\n",
       "      <td>0.728809</td>\n",
       "      <td>-0.999635</td>\n",
       "      <td>1.000000</td>\n",
       "    </tr>\n",
       "  </tbody>\n",
       "</table>\n",
       "</div>"
      ],
      "text/plain": [
       "             Rating  feature_1  feature_2\n",
       "Rating     1.000000  -0.731518   0.728809\n",
       "feature_1 -0.731518   1.000000  -0.999635\n",
       "feature_2  0.728809  -0.999635   1.000000"
      ]
     },
     "execution_count": 16,
     "metadata": {},
     "output_type": "execute_result"
    }
   ],
   "source": [
    "df[['Rating','feature_1','feature_2']].corr()\n"
   ]
  },
  {
   "cell_type": "markdown",
   "id": "f4c4ac42-db6d-4856-9db1-730e49971bcd",
   "metadata": {},
   "source": [
    "The most important finding here is that both features correlate with the target. We can therefore hope that traditional machine learning algorithms will be able to create decent results. Since feature_1 and feature_2 are so strongly correlated, I'll drop one of them. Since feature_2 is positively correlated with the target I will keep it since this makes the relationship more intuitive."
   ]
  },
  {
   "cell_type": "markdown",
   "id": "3daeca3c-bcf2-4470-9f1f-711dfca5585f",
   "metadata": {},
   "source": [
    "## Machine Learing for 5 star review"
   ]
  },
  {
   "cell_type": "code",
   "execution_count": null,
   "id": "22466d6e-ce2f-4e57-9e0b-3660e5131591",
   "metadata": {},
   "outputs": [],
   "source": [
    "!pip install xgboost"
   ]
  },
  {
   "cell_type": "code",
   "execution_count": 70,
   "id": "b337d20c-d5ca-4c72-8942-8ede57b08741",
   "metadata": {},
   "outputs": [],
   "source": [
    "from sklearn.ensemble import RandomForestClassifier\n",
    "from sklearn.model_selection import train_test_split\n",
    "from sklearn.metrics import mean_squared_error\n",
    "\n",
    "import matplotlib.pyplot as plt\n",
    "from xgboost import XGBClassifier\n",
    "import pickle"
   ]
  },
  {
   "cell_type": "markdown",
   "id": "fabd619b-32be-4448-a080-b35ee8f237c1",
   "metadata": {},
   "source": [
    "### Random Forest"
   ]
  },
  {
   "cell_type": "code",
   "execution_count": 71,
   "id": "ad09e919-4344-4ed1-8559-5a19571e5264",
   "metadata": {},
   "outputs": [
    {
     "data": {
      "text/html": [
       "<div>\n",
       "<style scoped>\n",
       "    .dataframe tbody tr th:only-of-type {\n",
       "        vertical-align: middle;\n",
       "    }\n",
       "\n",
       "    .dataframe tbody tr th {\n",
       "        vertical-align: top;\n",
       "    }\n",
       "\n",
       "    .dataframe thead th {\n",
       "        text-align: right;\n",
       "    }\n",
       "</style>\n",
       "<table border=\"1\" class=\"dataframe\">\n",
       "  <thead>\n",
       "    <tr style=\"text-align: right;\">\n",
       "      <th></th>\n",
       "      <th>feature_2</th>\n",
       "    </tr>\n",
       "  </thead>\n",
       "  <tbody>\n",
       "    <tr>\n",
       "      <th>26129</th>\n",
       "      <td>-3.036528</td>\n",
       "    </tr>\n",
       "    <tr>\n",
       "      <th>26369</th>\n",
       "      <td>2.416714</td>\n",
       "    </tr>\n",
       "    <tr>\n",
       "      <th>17932</th>\n",
       "      <td>-2.402971</td>\n",
       "    </tr>\n",
       "    <tr>\n",
       "      <th>29870</th>\n",
       "      <td>2.019817</td>\n",
       "    </tr>\n",
       "    <tr>\n",
       "      <th>39378</th>\n",
       "      <td>0.545442</td>\n",
       "    </tr>\n",
       "  </tbody>\n",
       "</table>\n",
       "</div>"
      ],
      "text/plain": [
       "       feature_2\n",
       "26129  -3.036528\n",
       "26369   2.416714\n",
       "17932  -2.402971\n",
       "29870   2.019817\n",
       "39378   0.545442"
      ]
     },
     "execution_count": 71,
     "metadata": {},
     "output_type": "execute_result"
    }
   ],
   "source": [
    "X = df.drop(columns=['Rating','Review','Origin','feature_1'])\n",
    "y = df.Rating\n",
    "\n",
    "X_train, X_test, y_train, y_test = train_test_split(X, y, test_size=0.2, random_state=1)\n",
    "X_train.head()"
   ]
  },
  {
   "cell_type": "code",
   "execution_count": 72,
   "id": "3e7323b4-564f-4d40-b80f-6f3ff50dee59",
   "metadata": {},
   "outputs": [
    {
     "name": "stdout",
     "output_type": "stream",
     "text": [
      "Train RMSE: 0.303477846593616\n",
      "Test RMSE: 1.3345242348457782\n",
      "Train RMSE: 0.15918294425917104\n",
      "Test RMSE: 1.3147552697391927\n",
      "Train RMSE: 0.09805264411624583\n",
      "Test RMSE: 1.299392640228653\n",
      "Train RMSE: 0.06571581705574082\n",
      "Test RMSE: 1.3047516970346553\n",
      "Train RMSE: 0.046748451643639825\n",
      "Test RMSE: 1.3004644515898536\n",
      "Train RMSE: 0.03841114816579323\n",
      "Test RMSE: 1.3021317137072763\n",
      "Train RMSE: 0.02572653644592663\n",
      "Test RMSE: 1.2960581159938074\n",
      "Train RMSE: 0.017806098141972367\n",
      "Test RMSE: 1.3011789924973205\n",
      "Train RMSE: 0.015483563601715102\n",
      "Test RMSE: 1.2991544599261642\n",
      "Train RMSE: 0.010630061934254406\n",
      "Test RMSE: 1.3023698940097654\n",
      "Train RMSE: 0.008515959980943306\n",
      "Test RMSE: 1.3051089674883887\n",
      "Train RMSE: 0.008277751310147689\n",
      "Test RMSE: 1.3043944265809218\n",
      "Train RMSE: 0.00687827536922344\n",
      "Test RMSE: 1.2943908538763844\n",
      "Train RMSE: 0.006729394949976179\n",
      "Test RMSE: 1.2990353697749195\n"
     ]
    }
   ],
   "source": [
    "number_of_trees = range(4, 60, 4)\n",
    "train_rmses = []\n",
    "test_rmses = []\n",
    "\n",
    "for n in number_of_trees:\n",
    "    rfc = RandomForestClassifier(n)\n",
    "    rfc.fit(X_train, y_train)\n",
    "    y_train_pred = rfc.predict(X_train)\n",
    "    y_test_pred = rfc.predict(X_test)\n",
    "                     \n",
    "    rmse_train = mean_squared_error(y_train, y_train_pred)\n",
    "    train_rmses.append(rmse_train)\n",
    "    print(f'Train RMSE: {rmse_train}')\n",
    "    \n",
    "    rmse_test = mean_squared_error(y_test, y_test_pred)\n",
    "    test_rmses.append(rmse_test)\n",
    "    print(f'Test RMSE: {rmse_test}')\n"
   ]
  },
  {
   "cell_type": "code",
   "execution_count": 73,
   "id": "4cbe5be2-ff24-470b-aa61-1734b1bdb44b",
   "metadata": {},
   "outputs": [
    {
     "data": {
      "image/png": "[encoded data removed]",
      "text/plain": [
       "<Figure size 640x480 with 1 Axes>"
      ]
     },
     "metadata": {},
     "output_type": "display_data"
    }
   ],
   "source": [
    "plt.plot(number_of_trees, train_rmses)\n",
    "plt.plot(number_of_trees, test_rmses)\n",
    "plt.show()\n"
   ]
  },
  {
   "cell_type": "code",
   "execution_count": 74,
   "id": "c9740776-0994-4f00-931b-1add1894ee46",
   "metadata": {},
   "outputs": [
    {
     "data": {
      "text/html": [
       "<div>\n",
       "<style scoped>\n",
       "    .dataframe tbody tr th:only-of-type {\n",
       "        vertical-align: middle;\n",
       "    }\n",
       "\n",
       "    .dataframe tbody tr th {\n",
       "        vertical-align: top;\n",
       "    }\n",
       "\n",
       "    .dataframe thead th {\n",
       "        text-align: right;\n",
       "    }\n",
       "</style>\n",
       "<table border=\"1\" class=\"dataframe\">\n",
       "  <thead>\n",
       "    <tr style=\"text-align: right;\">\n",
       "      <th></th>\n",
       "      <th>feature_1</th>\n",
       "      <th>feature_2</th>\n",
       "    </tr>\n",
       "  </thead>\n",
       "  <tbody>\n",
       "    <tr>\n",
       "      <th>26129</th>\n",
       "      <td>3.173402</td>\n",
       "      <td>-3.036528</td>\n",
       "    </tr>\n",
       "    <tr>\n",
       "      <th>26369</th>\n",
       "      <td>-2.394686</td>\n",
       "      <td>2.416714</td>\n",
       "    </tr>\n",
       "    <tr>\n",
       "      <th>17932</th>\n",
       "      <td>2.458180</td>\n",
       "      <td>-2.402971</td>\n",
       "    </tr>\n",
       "    <tr>\n",
       "      <th>29870</th>\n",
       "      <td>-2.028114</td>\n",
       "      <td>2.019817</td>\n",
       "    </tr>\n",
       "    <tr>\n",
       "      <th>39378</th>\n",
       "      <td>-0.619453</td>\n",
       "      <td>0.545442</td>\n",
       "    </tr>\n",
       "  </tbody>\n",
       "</table>\n",
       "</div>"
      ],
      "text/plain": [
       "       feature_1  feature_2\n",
       "26129   3.173402  -3.036528\n",
       "26369  -2.394686   2.416714\n",
       "17932   2.458180  -2.402971\n",
       "29870  -2.028114   2.019817\n",
       "39378  -0.619453   0.545442"
      ]
     },
     "execution_count": 74,
     "metadata": {},
     "output_type": "execute_result"
    }
   ],
   "source": [
    "X = df.drop(columns=['Rating','Review','Origin'])\n",
    "y = df.Rating\n",
    "\n",
    "y = y - 1 # Needed since XGBoost is zero based\n",
    "\n",
    "X_train, X_test, y_train, y_test = train_test_split(X, y, test_size=0.2, random_state=1)\n",
    "X_train.head()"
   ]
  },
  {
   "cell_type": "code",
   "execution_count": 98,
   "id": "e8bf5ea6-2d82-4d0e-8855-c31e3426d6f8",
   "metadata": {},
   "outputs": [
    {
     "name": "stdout",
     "output_type": "stream",
     "text": [
      "Train RMSE: 0.9885064316341114\n",
      "Test RMSE: 1.06097415743718\n",
      "Train RMSE: 0.9964864221057647\n",
      "Test RMSE: 1.0585923544122902\n",
      "Train RMSE: 1.0033944735588376\n",
      "Test RMSE: 1.0674050256043826\n",
      "Train RMSE: 0.9819259171033826\n",
      "Test RMSE: 1.052995117303799\n",
      "Train RMSE: 0.9973499285373988\n",
      "Test RMSE: 1.0498987733714422\n",
      "Train RMSE: 0.9915138161029061\n",
      "Test RMSE: 1.054186018816244\n",
      "Train RMSE: 0.9921093377798952\n",
      "Test RMSE: 1.0394188400619269\n",
      "Train RMSE: 0.9872558361124345\n",
      "Test RMSE: 1.0539478385137548\n",
      "Train RMSE: 0.9948487374940448\n",
      "Test RMSE: 1.052518756698821\n",
      "Train RMSE: 0.992228442115293\n",
      "Test RMSE: 1.0544241991187329\n",
      "Train RMSE: 1.0025607432110528\n",
      "Test RMSE: 1.06097415743718\n",
      "Train RMSE: 0.9867496426869938\n",
      "Test RMSE: 1.0578778135048232\n",
      "Train RMSE: 0.9876727012863268\n",
      "Test RMSE: 1.0448969870191736\n",
      "Train RMSE: 0.9865114340161982\n",
      "Test RMSE: 1.0531142074550435\n"
     ]
    }
   ],
   "source": [
    "number_of_trees = range(4, 60, 4)\n",
    "train_rmses = []\n",
    "test_rmses = []\n",
    "\n",
    "for n in number_of_trees:\n",
    "    rfc = RandomForestClassifier(n, max_depth=8)\n",
    "    rfc.fit(X_train, y_train)\n",
    "    y_train_pred = rfc.predict(X_train)\n",
    "    y_test_pred = rfc.predict(X_test)\n",
    "                     \n",
    "    rmse_train = mean_squared_error(y_train, y_train_pred)\n",
    "    train_rmses.append(rmse_train)\n",
    "    print(f'Train RMSE: {rmse_train}')\n",
    "    \n",
    "    rmse_test = mean_squared_error(y_test, y_test_pred)\n",
    "    test_rmses.append(rmse_test)\n",
    "    print(f'Test RMSE: {rmse_test}')"
   ]
  },
  {
   "cell_type": "code",
   "execution_count": 99,
   "id": "86acdbe3-e93d-4a4f-9d71-22500e873653",
   "metadata": {},
   "outputs": [
    {
     "data": {
      "image/png": "[encoded data removed]",
      "text/plain": [
       "<Figure size 640x480 with 1 Axes>"
      ]
     },
     "metadata": {},
     "output_type": "display_data"
    }
   ],
   "source": [
    "plt.plot(number_of_trees, train_rmses)\n",
    "plt.plot(number_of_trees, test_rmses)\n",
    "plt.show()"
   ]
  },
  {
   "cell_type": "code",
   "execution_count": 104,
   "id": "ed16d543-20b8-467c-b4af-8334a546c5c9",
   "metadata": {},
   "outputs": [],
   "source": [
    "rfc = RandomForestClassifier(28, max_depth=8)\n",
    "rfc.fit(X, y)\n",
    "\n",
    "# Save the model to disk\n",
    "with open('random_forest_kaggle_data_classifier.pkl', 'wb') as file:\n",
    "    pickle.dump(rfc, file)\n",
    "\n"
   ]
  },
  {
   "cell_type": "markdown",
   "id": "52ceb41e-3f35-4e39-bceb-03726261699d",
   "metadata": {},
   "source": [
    "### XGBoost"
   ]
  },
  {
   "cell_type": "code",
   "execution_count": 84,
   "id": "774b8e32-eecc-42c2-95ac-66984a986ac4",
   "metadata": {},
   "outputs": [
    {
     "name": "stdout",
     "output_type": "stream",
     "text": [
      "Train RMSE: 1.0016972367794188\n",
      "Test RMSE: 1.0110753840657378\n",
      "Train RMSE: 1.0122975226298236\n",
      "Test RMSE: 1.039180659759438\n",
      "Train RMSE: 1.0122975226298236\n",
      "Test RMSE: 1.039180659759438\n",
      "Train RMSE: 1.0122975226298236\n",
      "Test RMSE: 1.039180659759438\n",
      "Train RMSE: 1.0122975226298236\n",
      "Test RMSE: 1.039180659759438\n",
      "Train RMSE: 1.0122975226298236\n",
      "Test RMSE: 1.039180659759438\n",
      "Train RMSE: 1.0122975226298236\n",
      "Test RMSE: 1.039180659759438\n",
      "Train RMSE: 1.0122975226298236\n",
      "Test RMSE: 1.039180659759438\n",
      "Train RMSE: 1.0147987136731778\n",
      "Test RMSE: 1.0423960938430392\n",
      "Train RMSE: 1.0147987136731778\n",
      "Test RMSE: 1.0423960938430392\n",
      "Train RMSE: 1.0512148642210577\n",
      "Test RMSE: 1.081814933904966\n",
      "Train RMSE: 1.0607729871367317\n",
      "Test RMSE: 1.0949148505418602\n",
      "Train RMSE: 1.0607729871367317\n",
      "Test RMSE: 1.0949148505418602\n",
      "Train RMSE: 1.0607729871367317\n",
      "Test RMSE: 1.0949148505418602\n"
     ]
    }
   ],
   "source": [
    "number_of_trees = range(4, 60, 4)\n",
    "train_rmses = []\n",
    "test_rmses = []\n",
    "\n",
    "\n",
    "\n",
    "for n in number_of_trees:\n",
    "    xgb = XGBClassifier(objective='multi:softmax', num_class=5, max_depth=2, learning_rate=0.01, n_estimators=n)\n",
    "    xgb.fit(X_train, y_train)\n",
    "    y_train_pred = xgb.predict(X_train)\n",
    "    y_test_pred = xgb.predict(X_test)\n",
    "                     \n",
    "    rmse_train = mean_squared_error(y_train, y_train_pred)\n",
    "    train_rmses.append(rmse_train)\n",
    "    print(f'Train RMSE: {rmse_train}')\n",
    "    \n",
    "    rmse_test = mean_squared_error(y_test, y_test_pred)\n",
    "    test_rmses.append(rmse_test)\n",
    "    print(f'Test RMSE: {rmse_test}')\n",
    "\n"
   ]
  },
  {
   "cell_type": "code",
   "execution_count": 85,
   "id": "090befd0-2d4f-43c8-9be1-9234406334d2",
   "metadata": {},
   "outputs": [
    {
     "data": {
      "image/png": "[encoded data removed]",
      "text/plain": [
       "<Figure size 640x480 with 1 Axes>"
      ]
     },
     "metadata": {},
     "output_type": "display_data"
    }
   ],
   "source": [
    "plt.plot(number_of_trees, train_rmses)\n",
    "plt.plot(number_of_trees, test_rmses)\n",
    "plt.show()"
   ]
  },
  {
   "cell_type": "code",
   "execution_count": 103,
   "id": "c55aa9d1-6489-458d-8e73-a7abdbb3d390",
   "metadata": {},
   "outputs": [],
   "source": [
    "xgb = XGBClassifier(objective='multi:softmax', num_class=5, max_depth=2, learning_rate=0.01, n_estimators=4)\n",
    "xgb.fit(X, y)\n",
    "\n",
    "\n",
    "\n",
    "# Save the model to disk\n",
    "with open('XGBoost_kaggle_data_classifier.pkl', 'wb') as file:\n",
    "    pickle.dump(xgb, file)"
   ]
  },
  {
   "cell_type": "code",
   "execution_count": null,
   "id": "469383a5-c9cb-4792-9c8d-0f2dcc71c882",
   "metadata": {},
   "outputs": [],
   "source": []
  }
 ],
 "metadata": {
  "kernelspec": {
   "display_name": "Python 3 (ipykernel)",
   "language": "python",
   "name": "python3"
  },
  "language_info": {
   "codemirror_mode": {
    "name": "ipython",
    "version": 3
   },
   "file_extension": ".py",
   "mimetype": "text/x-python",
   "name": "python",
   "nbconvert_exporter": "python",
   "pygments_lexer": "ipython3",
   "version": "3.11.9"
  }
 },
 "nbformat": 4,
 "nbformat_minor": 5
}
