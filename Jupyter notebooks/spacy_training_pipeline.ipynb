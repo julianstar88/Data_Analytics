{
 "cells": [
  {
   "cell_type": "markdown",
   "metadata": {},
   "source": [
    "# Imports and Configuration"
   ]
  },
  {
   "cell_type": "code",
   "execution_count": 11,
   "metadata": {},
   "outputs": [],
   "source": [
    "import pandas as pd\n",
    "import numpy as np\n",
    "import matplotlib.pyplot as plt\n",
    "import streamlit as st\n",
    "import pathlib as pl\n",
    "import re\n",
    "import random\n",
    "import subprocess\n",
    "from icecream import ic\n",
    "\n",
    "import spacy\n",
    "from spacy.util import minibatch, compounding\n",
    "\n",
    "plt.style.use('ggplot')\n",
    "ic.configureOutput(includeContext=True)"
   ]
  },
  {
   "cell_type": "markdown",
   "metadata": {},
   "source": [
    "# Getting Sampledata"
   ]
  },
  {
   "cell_type": "code",
   "execution_count": 2,
   "metadata": {},
   "outputs": [
    {
     "data": {
      "text/html": [
       "<div>\n",
       "<style scoped>\n",
       "    .dataframe tbody tr th:only-of-type {\n",
       "        vertical-align: middle;\n",
       "    }\n",
       "\n",
       "    .dataframe tbody tr th {\n",
       "        vertical-align: top;\n",
       "    }\n",
       "\n",
       "    .dataframe thead th {\n",
       "        text-align: right;\n",
       "    }\n",
       "</style>\n",
       "<table border=\"1\" class=\"dataframe\">\n",
       "  <thead>\n",
       "    <tr style=\"text-align: right;\">\n",
       "      <th></th>\n",
       "      <th>ratings</th>\n",
       "      <th>title</th>\n",
       "      <th>text</th>\n",
       "      <th>author</th>\n",
       "      <th>date_stayed</th>\n",
       "      <th>offering_id</th>\n",
       "      <th>num_helpful_votes</th>\n",
       "      <th>date</th>\n",
       "      <th>id</th>\n",
       "      <th>via_mobile</th>\n",
       "    </tr>\n",
       "  </thead>\n",
       "  <tbody>\n",
       "    <tr>\n",
       "      <th>0</th>\n",
       "      <td>{'service': 5.0, 'cleanliness': 5.0, 'overall'...</td>\n",
       "      <td>“Truly is \"Jewel of the Upper Wets Side\"”</td>\n",
       "      <td>Stayed in a king suite for 11 nights and yes i...</td>\n",
       "      <td>{'username': 'Papa_Panda', 'num_cities': 22, '...</td>\n",
       "      <td>December 2012</td>\n",
       "      <td>93338</td>\n",
       "      <td>0</td>\n",
       "      <td>2012-12-17</td>\n",
       "      <td>147643103</td>\n",
       "      <td>False</td>\n",
       "    </tr>\n",
       "    <tr>\n",
       "      <th>1</th>\n",
       "      <td>{'service': 5.0, 'cleanliness': 5.0, 'overall'...</td>\n",
       "      <td>“My home away from home!”</td>\n",
       "      <td>On every visit to NYC, the Hotel Beacon is the...</td>\n",
       "      <td>{'username': 'Maureen V', 'num_reviews': 2, 'n...</td>\n",
       "      <td>December 2012</td>\n",
       "      <td>93338</td>\n",
       "      <td>0</td>\n",
       "      <td>2012-12-17</td>\n",
       "      <td>147639004</td>\n",
       "      <td>False</td>\n",
       "    </tr>\n",
       "    <tr>\n",
       "      <th>2</th>\n",
       "      <td>{'service': 4.0, 'cleanliness': 5.0, 'overall'...</td>\n",
       "      <td>“Great Stay”</td>\n",
       "      <td>This is a great property in Midtown. We two di...</td>\n",
       "      <td>{'username': 'vuguru', 'num_cities': 12, 'num_...</td>\n",
       "      <td>December 2012</td>\n",
       "      <td>1762573</td>\n",
       "      <td>0</td>\n",
       "      <td>2012-12-18</td>\n",
       "      <td>147697954</td>\n",
       "      <td>False</td>\n",
       "    </tr>\n",
       "    <tr>\n",
       "      <th>3</th>\n",
       "      <td>{'service': 5.0, 'cleanliness': 5.0, 'overall'...</td>\n",
       "      <td>“Modern Convenience”</td>\n",
       "      <td>The Andaz is a nice hotel in a central locatio...</td>\n",
       "      <td>{'username': 'Hotel-Designer', 'num_cities': 5...</td>\n",
       "      <td>August 2012</td>\n",
       "      <td>1762573</td>\n",
       "      <td>0</td>\n",
       "      <td>2012-12-17</td>\n",
       "      <td>147625723</td>\n",
       "      <td>False</td>\n",
       "    </tr>\n",
       "    <tr>\n",
       "      <th>4</th>\n",
       "      <td>{'service': 4.0, 'cleanliness': 5.0, 'overall'...</td>\n",
       "      <td>“Its the best of the Andaz Brand in the US....”</td>\n",
       "      <td>I have stayed at each of the US Andaz properti...</td>\n",
       "      <td>{'username': 'JamesE339', 'num_cities': 34, 'n...</td>\n",
       "      <td>December 2012</td>\n",
       "      <td>1762573</td>\n",
       "      <td>0</td>\n",
       "      <td>2012-12-17</td>\n",
       "      <td>147612823</td>\n",
       "      <td>False</td>\n",
       "    </tr>\n",
       "  </tbody>\n",
       "</table>\n",
       "</div>"
      ],
      "text/plain": [
       "                                             ratings  \\\n",
       "0  {'service': 5.0, 'cleanliness': 5.0, 'overall'...   \n",
       "1  {'service': 5.0, 'cleanliness': 5.0, 'overall'...   \n",
       "2  {'service': 4.0, 'cleanliness': 5.0, 'overall'...   \n",
       "3  {'service': 5.0, 'cleanliness': 5.0, 'overall'...   \n",
       "4  {'service': 4.0, 'cleanliness': 5.0, 'overall'...   \n",
       "\n",
       "                                             title  \\\n",
       "0        “Truly is \"Jewel of the Upper Wets Side\"”   \n",
       "1                        “My home away from home!”   \n",
       "2                                     “Great Stay”   \n",
       "3                             “Modern Convenience”   \n",
       "4  “Its the best of the Andaz Brand in the US....”   \n",
       "\n",
       "                                                text  \\\n",
       "0  Stayed in a king suite for 11 nights and yes i...   \n",
       "1  On every visit to NYC, the Hotel Beacon is the...   \n",
       "2  This is a great property in Midtown. We two di...   \n",
       "3  The Andaz is a nice hotel in a central locatio...   \n",
       "4  I have stayed at each of the US Andaz properti...   \n",
       "\n",
       "                                              author    date_stayed  \\\n",
       "0  {'username': 'Papa_Panda', 'num_cities': 22, '...  December 2012   \n",
       "1  {'username': 'Maureen V', 'num_reviews': 2, 'n...  December 2012   \n",
       "2  {'username': 'vuguru', 'num_cities': 12, 'num_...  December 2012   \n",
       "3  {'username': 'Hotel-Designer', 'num_cities': 5...    August 2012   \n",
       "4  {'username': 'JamesE339', 'num_cities': 34, 'n...  December 2012   \n",
       "\n",
       "   offering_id  num_helpful_votes        date         id  via_mobile  \n",
       "0        93338                  0  2012-12-17  147643103       False  \n",
       "1        93338                  0  2012-12-17  147639004       False  \n",
       "2      1762573                  0  2012-12-18  147697954       False  \n",
       "3      1762573                  0  2012-12-17  147625723       False  \n",
       "4      1762573                  0  2012-12-17  147612823       False  "
      ]
     },
     "execution_count": 2,
     "metadata": {},
     "output_type": "execute_result"
    }
   ],
   "source": [
    "file_path = pl.Path(r\"C:\\Users\\milit\\Documents\\python\\Data_Analytics\\ProjectWoche\\Data\\trip_advisor_reviews.zip\")\n",
    "data = pd.read_csv(file_path, compression=\"zip\")\n",
    "data.head()"
   ]
  },
  {
   "cell_type": "markdown",
   "metadata": {},
   "source": [
    "# Exploring for data important for training\n",
    "- ratings: extracted overall\n",
    "- text\n",
    "\n",
    "- explore missing values of text"
   ]
  },
  {
   "cell_type": "code",
   "execution_count": 3,
   "metadata": {},
   "outputs": [
    {
     "name": "stdout",
     "output_type": "stream",
     "text": [
      "exploring missing values for cols 'ratings' and 'text'\n",
      "missing values ratings: 0.0%\n",
      "missing values text: 0.0%\n"
     ]
    }
   ],
   "source": [
    "train_df = data[[\"ratings\", \"text\"]]\n",
    "missing_values_text = train_df[train_df[\"text\"].isna()]\n",
    "missing_values_ratings = train_df[train_df[\"ratings\"].isna()]\n",
    "print(\"exploring missing values for cols 'ratings' and 'text'\")\n",
    "print(f\"missing values ratings: {missing_values_ratings.shape[0] / train_df['text'].shape[0]}%\")\n",
    "print(f\"missing values text: {missing_values_text.shape[0] / train_df['text'].shape[0]}%\")\n"
   ]
  },
  {
   "cell_type": "code",
   "execution_count": 4,
   "metadata": {},
   "outputs": [
    {
     "name": "stderr",
     "output_type": "stream",
     "text": [
      "C:\\Users\\milit\\AppData\\Local\\Temp\\ipykernel_10940\\3312922491.py:11: SettingWithCopyWarning: \n",
      "A value is trying to be set on a copy of a slice from a DataFrame.\n",
      "Try using .loc[row_indexer,col_indexer] = value instead\n",
      "\n",
      "See the caveats in the documentation: https://pandas.pydata.org/pandas-docs/stable/user_guide/indexing.html#returning-a-view-versus-a-copy\n",
      "  train_df[\"overall_rating\"] = train_df[\"ratings\"].apply(extract_rating, args=(\"overall\",))\n"
     ]
    },
    {
     "data": {
      "text/html": [
       "<div>\n",
       "<style scoped>\n",
       "    .dataframe tbody tr th:only-of-type {\n",
       "        vertical-align: middle;\n",
       "    }\n",
       "\n",
       "    .dataframe tbody tr th {\n",
       "        vertical-align: top;\n",
       "    }\n",
       "\n",
       "    .dataframe thead th {\n",
       "        text-align: right;\n",
       "    }\n",
       "</style>\n",
       "<table border=\"1\" class=\"dataframe\">\n",
       "  <thead>\n",
       "    <tr style=\"text-align: right;\">\n",
       "      <th></th>\n",
       "      <th>ratings</th>\n",
       "      <th>text</th>\n",
       "      <th>overall_rating</th>\n",
       "    </tr>\n",
       "  </thead>\n",
       "  <tbody>\n",
       "    <tr>\n",
       "      <th>0</th>\n",
       "      <td>{'service': 5.0, 'cleanliness': 5.0, 'overall'...</td>\n",
       "      <td>Stayed in a king suite for 11 nights and yes i...</td>\n",
       "      <td>5</td>\n",
       "    </tr>\n",
       "    <tr>\n",
       "      <th>1</th>\n",
       "      <td>{'service': 5.0, 'cleanliness': 5.0, 'overall'...</td>\n",
       "      <td>On every visit to NYC, the Hotel Beacon is the...</td>\n",
       "      <td>5</td>\n",
       "    </tr>\n",
       "    <tr>\n",
       "      <th>2</th>\n",
       "      <td>{'service': 4.0, 'cleanliness': 5.0, 'overall'...</td>\n",
       "      <td>This is a great property in Midtown. We two di...</td>\n",
       "      <td>4</td>\n",
       "    </tr>\n",
       "    <tr>\n",
       "      <th>3</th>\n",
       "      <td>{'service': 5.0, 'cleanliness': 5.0, 'overall'...</td>\n",
       "      <td>The Andaz is a nice hotel in a central locatio...</td>\n",
       "      <td>4</td>\n",
       "    </tr>\n",
       "    <tr>\n",
       "      <th>4</th>\n",
       "      <td>{'service': 4.0, 'cleanliness': 5.0, 'overall'...</td>\n",
       "      <td>I have stayed at each of the US Andaz properti...</td>\n",
       "      <td>4</td>\n",
       "    </tr>\n",
       "  </tbody>\n",
       "</table>\n",
       "</div>"
      ],
      "text/plain": [
       "                                             ratings  \\\n",
       "0  {'service': 5.0, 'cleanliness': 5.0, 'overall'...   \n",
       "1  {'service': 5.0, 'cleanliness': 5.0, 'overall'...   \n",
       "2  {'service': 4.0, 'cleanliness': 5.0, 'overall'...   \n",
       "3  {'service': 5.0, 'cleanliness': 5.0, 'overall'...   \n",
       "4  {'service': 4.0, 'cleanliness': 5.0, 'overall'...   \n",
       "\n",
       "                                                text  overall_rating  \n",
       "0  Stayed in a king suite for 11 nights and yes i...               5  \n",
       "1  On every visit to NYC, the Hotel Beacon is the...               5  \n",
       "2  This is a great property in Midtown. We two di...               4  \n",
       "3  The Andaz is a nice hotel in a central locatio...               4  \n",
       "4  I have stayed at each of the US Andaz properti...               4  "
      ]
     },
     "execution_count": 4,
     "metadata": {},
     "output_type": "execute_result"
    }
   ],
   "source": [
    "def extract_rating(row: str, which: str) -> int:\n",
    "    pattern = re.compile(r\"'{}':\\s?(\\d+\\.\\d+)\".format(which))\n",
    "    match_object = re.search(pattern, row)\n",
    "    if match_object:\n",
    "        rating = float(match_object.group(1))\n",
    "        rating = int(rating)\n",
    "        return rating\n",
    "    else:\n",
    "        return -1\n",
    "\n",
    "train_df[\"overall_rating\"] = train_df[\"ratings\"].apply(extract_rating, args=(\"overall\",))\n",
    "train_df.head()"
   ]
  },
  {
   "cell_type": "markdown",
   "metadata": {},
   "source": [
    "# Building Spacy-pipeline"
   ]
  },
  {
   "cell_type": "markdown",
   "metadata": {},
   "source": [
    "### Functions"
   ]
  },
  {
   "cell_type": "code",
   "execution_count": 31,
   "metadata": {},
   "outputs": [],
   "source": [
    "def evaluate_model(tokenizer, textcat, test_data: list) -> dict:\n",
    "    pass\n",
    "\n",
    "def train_test_data(data: list, labels: list, split: float = 0.8) -> list:\n",
    "\n",
    "    # shuffle data\n",
    "    random.shuffle(data)\n",
    "    texts, true_labels = zip(*data)\n",
    "\n",
    "    # preparing labels for training_data\n",
    "    cats = list()\n",
    "    for true_label in true_labels:\n",
    "        cat_values = {label: False for label in labels}\n",
    "        cat_values[true_label] = True\n",
    "        cats.append(cat_values)\n",
    "\n",
    "    cats = [{\"cats\": cat} for cat in cats]\n",
    "    \n",
    "    # bring data in final training_data format\n",
    "    training_data = list(zip(texts, cats))\n",
    "    out = training_data\n",
    "\n",
    "    # split the data\n",
    "    split = int(len(data) * split)\n",
    "    train_split = training_data[:split]\n",
    "    test_split = training_data[split:]\n",
    "\n",
    "    return train_split, test_split\n",
    "    \n",
    "\n",
    "def train_model(training_data: list, test_data: list, iteration: int = 20) -> None:\n",
    "    pass\n",
    "\n"
   ]
  },
  {
   "cell_type": "markdown",
   "metadata": {},
   "source": [
    "### spacy setup"
   ]
  },
  {
   "cell_type": "code",
   "execution_count": 6,
   "metadata": {},
   "outputs": [],
   "source": [
    "# use only a small subset of 'data' for developement purpose\n",
    "sample_data = train_df.sample(n=100, axis=0)\n",
    "sample_data[\"overall_rating\"] = sample_data[\"overall_rating\"].astype(dtype=str)\n",
    "labels = [\"1\", \"2\", \"3\", \"4\", \"5\"]\n",
    "\n",
    "nlp = spacy.load(\"en_core_web_sm\")\n",
    "nlp.pipe_names\n",
    "\n",
    "# add a textcategoration to the pipeline \n",
    "if \"textcat\" not in nlp.pipe_names:\n",
    "    textcat = nlp.add_pipe(\"textcat\")\n",
    "else:\n",
    "    textcat = nlp.get_pipe(\"textcat\")\n",
    "nlp.pipe_names\n",
    "\n",
    "for label in labels:\n",
    "    textcat.add_label(label)\n",
    "\n",
    "# train only the textcat component\n",
    "training_exclude_pipes = [\n",
    "    pipe for pipe in nlp.pipe_names if pipe != \"textcat\"\n",
    "]\n"
   ]
  },
  {
   "cell_type": "markdown",
   "metadata": {},
   "source": [
    "### prepare data for training"
   ]
  },
  {
   "cell_type": "code",
   "execution_count": 7,
   "metadata": {},
   "outputs": [
    {
     "name": "stdout",
     "output_type": "stream",
     "text": [
      "length train_data: 100\n",
      "length train_split: 80\n",
      "length test_split: 20\n"
     ]
    }
   ],
   "source": [
    "sample_data[\"tuples\"] = sample_data.apply(lambda row: (row[\"text\"], row[\"overall_rating\"]), axis=1)\n",
    "train_data = sample_data[\"tuples\"].to_list()\n",
    "train_split, test_split = train_test_data(data=train_data, labels=labels)\n",
    "print(f\"length train_data: {len(train_data)}\")\n",
    "print(f\"length train_split: {len(train_split)}\")\n",
    "print(f\"length test_split: {len(test_split)}\")"
   ]
  },
  {
   "cell_type": "markdown",
   "metadata": {},
   "source": [
    "### train the text-categorizer (textcat)"
   ]
  },
  {
   "cell_type": "code",
   "execution_count": null,
   "metadata": {},
   "outputs": [],
   "source": [
    "n_iter = 100\n",
    "batchsize = 5\n",
    "batchcount = float(len(train_split) / batchsize)\n",
    "with nlp.disable_pipes(*training_exclude_pipes): # train only the textcat component of the pipe\n",
    "    # optimizer = nlp.begin_training()\n",
    "    optimizer = nlp.create_optimizer()\n",
    "\n",
    "    print(\"Train model...\")\n",
    "    print(f\"Loss\")\n",
    "\n",
    "    # perform training\n",
    "    for i in range(n_iter):\n",
    "        losses = dict()\n",
    "        batches = minibatch(train_split, size=compounding(batchsize, batchcount, 1.))\n",
    "        for batch in batches:\n",
    "            texts, annotations = zip(*batch)\n",
    "            nlp.update(\n",
    "                texts, \n",
    "                annotations, \n",
    "                sgd=optimizer, \n",
    "                drop=0.2, losses=losses\n",
    "            )\n",
    "        print(f\"{losses['textcat']}\")"
   ]
  },
  {
   "cell_type": "markdown",
   "metadata": {},
   "source": [
    "# Train spacy from CLI"
   ]
  },
  {
   "cell_type": "markdown",
   "metadata": {},
   "source": [
    "### functions"
   ]
  },
  {
   "cell_type": "code",
   "execution_count": 32,
   "metadata": {},
   "outputs": [],
   "source": [
    "def cmd(args: list, verbose: bool = False) -> subprocess.CompletedProcess:\n",
    "    sub = subprocess.run(args, shell=True, text=True, stdout=subprocess.PIPE)\n",
    "    if verbose:\n",
    "        print(sub.stdout)\n",
    "    return sub.stdout\n",
    "\n",
    "def extract_rating(row: str, which: str) -> int:\n",
    "    pattern = re.compile(r\"'{}':\\s?(\\d+\\.\\d+)\".format(which))\n",
    "    match_object = re.search(pattern, row)\n",
    "    if match_object:\n",
    "        rating = float(match_object.group(1))\n",
    "        rating = int(rating)\n",
    "        rating = str(rating)\n",
    "        return rating\n",
    "    else:\n",
    "        return -1\n"
   ]
  },
  {
   "cell_type": "markdown",
   "metadata": {},
   "source": [
    "### create base_config.cfg"
   ]
  },
  {
   "cell_type": "code",
   "execution_count": 24,
   "metadata": {},
   "outputs": [
    {
     "name": "stdout",
     "output_type": "stream",
     "text": [
      "\u001b[38;5;3m⚠ To generate a more effective transformer-based config (GPU-only),\n",
      "install the spacy-transformers package and re-run this command. The config\n",
      "generated now does not use transformers.\u001b[0m\n",
      "\u001b[38;5;4mℹ Generated config template specific for your use case\u001b[0m\n",
      "- Language: en\n",
      "- Pipeline: textcat\n",
      "- Optimize for: efficiency\n",
      "- Hardware: CPU\n",
      "- Transformer: None\n",
      "\u001b[38;5;2m✔ Auto-filled config with all values\u001b[0m\n",
      "\u001b[38;5;2m✔ Saved config\u001b[0m\n",
      "C:\\Users\\milit\\Desktop\\Alfatraining\\Data_Scientist\\02_Data_Analytics\\04_Projekt_Woche\\spacy_config\\base_config.cfg\n",
      "You can now add your data and train your pipeline:\n",
      "python -m spacy train base_config.cfg --paths.train ./train.spacy --paths.dev ./dev.spacy\n",
      "\n"
     ]
    },
    {
     "data": {
      "text/plain": [
       "'\\x1b[38;5;3m⚠ To generate a more effective transformer-based config (GPU-only),\\ninstall the spacy-transformers package and re-run this command. The config\\ngenerated now does not use transformers.\\x1b[0m\\n\\x1b[38;5;4mℹ Generated config template specific for your use case\\x1b[0m\\n- Language: en\\n- Pipeline: textcat\\n- Optimize for: efficiency\\n- Hardware: CPU\\n- Transformer: None\\n\\x1b[38;5;2m✔ Auto-filled config with all values\\x1b[0m\\n\\x1b[38;5;2m✔ Saved config\\x1b[0m\\nC:\\\\Users\\\\milit\\\\Desktop\\\\Alfatraining\\\\Data_Scientist\\\\02_Data_Analytics\\\\04_Projekt_Woche\\\\spacy_config\\\\base_config.cfg\\nYou can now add your data and train your pipeline:\\npython -m spacy train base_config.cfg --paths.train ./train.spacy --paths.dev ./dev.spacy\\n'"
      ]
     },
     "execution_count": 24,
     "metadata": {},
     "output_type": "execute_result"
    }
   ],
   "source": [
    "config_path = pl.Path(r\"C:\\Users\\milit\\Desktop\\Alfatraining\\Data_Scientist\\02_Data_Analytics\\04_Projekt_Woche\\spacy_config\")\n",
    "base_config_file = pl.Path(\"base_config.cfg\")\n",
    "\n",
    "args = [\n",
    "    \"spacy\", \"init\", \"config\",\n",
    "    config_path / base_config_file,\n",
    "    \"--pipeline\", \"textcat\",\n",
    "    \"--optimize\", \"efficiency\"\n",
    "]\n",
    "cmd(args, verbose=True)"
   ]
  },
  {
   "cell_type": "markdown",
   "metadata": {},
   "source": [
    "### create config.cfg from base_config.cfg and fill with default values"
   ]
  },
  {
   "cell_type": "code",
   "execution_count": 29,
   "metadata": {},
   "outputs": [
    {
     "name": "stdout",
     "output_type": "stream",
     "text": [
      "\u001b[38;5;3m⚠ Nothing to auto-fill: base config is already complete\u001b[0m\n",
      "\u001b[38;5;2m✔ Saved config\u001b[0m\n",
      "C:\\Users\\milit\\Desktop\\Alfatraining\\Data_Scientist\\02_Data_Analytics\\04_Projekt_Woche\\spacy_config\\config.cfg\n",
      "You can now add your data and train your pipeline:\n",
      "python -m spacy train config.cfg --paths.train ./train.spacy --paths.dev ./dev.spacy\n",
      "\n"
     ]
    },
    {
     "data": {
      "text/plain": [
       "'\\x1b[38;5;3m⚠ Nothing to auto-fill: base config is already complete\\x1b[0m\\n\\x1b[38;5;2m✔ Saved config\\x1b[0m\\nC:\\\\Users\\\\milit\\\\Desktop\\\\Alfatraining\\\\Data_Scientist\\\\02_Data_Analytics\\\\04_Projekt_Woche\\\\spacy_config\\\\config.cfg\\nYou can now add your data and train your pipeline:\\npython -m spacy train config.cfg --paths.train ./train.spacy --paths.dev ./dev.spacy\\n'"
      ]
     },
     "execution_count": 29,
     "metadata": {},
     "output_type": "execute_result"
    }
   ],
   "source": [
    "config_file = pl.Path(\"config.cfg\")\n",
    "args = [\n",
    "    \"spacy\", \"init\", \"fill-config\",\n",
    "    config_path / base_config_file,\n",
    "    config_path / config_file,\n",
    "]\n",
    "cmd(args, verbose=True)"
   ]
  },
  {
   "cell_type": "markdown",
   "metadata": {},
   "source": [
    "### prepare training data"
   ]
  },
  {
   "cell_type": "code",
   "execution_count": 33,
   "metadata": {},
   "outputs": [
    {
     "name": "stderr",
     "output_type": "stream",
     "text": [
      "C:\\Users\\milit\\AppData\\Local\\Temp\\ipykernel_10940\\986764834.py:1: SettingWithCopyWarning: \n",
      "A value is trying to be set on a copy of a slice from a DataFrame.\n",
      "Try using .loc[row_indexer,col_indexer] = value instead\n",
      "\n",
      "See the caveats in the documentation: https://pandas.pydata.org/pandas-docs/stable/user_guide/indexing.html#returning-a-view-versus-a-copy\n",
      "  train_df[\"overall_rating\"] = train_df[\"ratings\"].apply(extract_rating, args=(\"overall\",))\n"
     ]
    }
   ],
   "source": [
    "train_df[\"overall_rating\"] = train_df[\"ratings\"].apply(extract_rating, args=(\"overall\",))\n",
    "sample_data = train_df.sample(n=100, axis=0)\n",
    "sample_data[\"tuples\"] = sample_data.apply(lambda row: (row[\"text\"], row[\"overall_rating\"]), axis=1)\n",
    "train_data = sample_data[\"tuples\"].to_list()\n",
    "\n",
    "\n"
   ]
  }
 ],
 "metadata": {
  "kernelspec": {
   "display_name": "data_analytics",
   "language": "python",
   "name": "python3"
  },
  "language_info": {
   "codemirror_mode": {
    "name": "ipython",
    "version": 3
   },
   "file_extension": ".py",
   "mimetype": "text/x-python",
   "name": "python",
   "nbconvert_exporter": "python",
   "pygments_lexer": "ipython3",
   "version": "3.12.3"
  }
 },
 "nbformat": 4,
 "nbformat_minor": 2
}
