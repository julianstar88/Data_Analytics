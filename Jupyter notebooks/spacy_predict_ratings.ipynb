{
 "cells": [
  {
   "cell_type": "code",
   "execution_count": 174,
   "metadata": {},
   "outputs": [],
   "source": [
    "import pathlib as pl\n",
    "import pandas as pd\n",
    "import numpy as np\n",
    "import spacy\n",
    "import matplotlib.pyplot as plt\n",
    "from icecream import ic\n",
    "\n",
    "plt.style.use(\"ggplot\")\n",
    "ic.configureOutput(includeContext=True)"
   ]
  },
  {
   "cell_type": "markdown",
   "metadata": {},
   "source": [
    "# Setup"
   ]
  },
  {
   "cell_type": "code",
   "execution_count": 175,
   "metadata": {},
   "outputs": [
    {
     "name": "stderr",
     "output_type": "stream",
     "text": [
      "c:\\ProgramData\\anaconda3\\envs\\data_analytics\\Lib\\site-packages\\spacy\\util.py:910: UserWarning: [W095] Model 'en_pipeline' (0.0.0) was trained with spaCy v3.7.5 and may not be 100% compatible with the current version (3.7.2). If you see errors or degraded performance, download a newer compatible model or retrain your custom model with the current spaCy version. For more details and available updates, run: python -m spacy validate\n",
      "  warnings.warn(warn_msg)\n",
      "ic| 4094948704.py:7 in <module>- 'paths loaded!'\n"
     ]
    },
    {
     "data": {
      "text/plain": [
       "'paths loaded!'"
      ]
     },
     "execution_count": 175,
     "metadata": {},
     "output_type": "execute_result"
    }
   ],
   "source": [
    "reviews_path_1 = pl.Path(r\"..\\data\\cities\\reviews_Rotterdam_en.csv.gz\")\n",
    "# reviews_path_2 = pl.Path(r\"..\\data\\cities\\reviews_Amsterdam_en_2.csv.gz\")\n",
    "listings_path = pl.Path(r\"..\\data\\cities\\processed\\listings_Rotterdam_processed.csv\")\n",
    "finished_path = pl.Path(r\"..\\data\\cities\\finished\\listings_Rotterdam_finished.csv\")\n",
    "output_path = finished_path.parent / f\"{finished_path.stem}_spacy.csv\"\n",
    "nlp = spacy.load(r\"..\\spacy_model\\model-best\")\n",
    "ic(\"paths loaded!\")"
   ]
  },
  {
   "cell_type": "markdown",
   "metadata": {},
   "source": [
    "# Load data"
   ]
  },
  {
   "cell_type": "code",
   "execution_count": 176,
   "metadata": {},
   "outputs": [
    {
     "name": "stderr",
     "output_type": "stream",
     "text": [
      "ic| 1587161569.py:16 in <module>- 'data loaded!'\n"
     ]
    },
    {
     "data": {
      "text/plain": [
       "'data loaded!'"
      ]
     },
     "execution_count": 176,
     "metadata": {},
     "output_type": "execute_result"
    }
   ],
   "source": [
    "def load_data(path: pl.Path | str, compression: None | str = None) -> pd.DataFrame:\n",
    "    path = pl.Path(path)\n",
    "    if compression is not None:\n",
    "        return pd.read_csv(path, compression=compression)\n",
    "    else:\n",
    "        return pd.read_csv(path)\n",
    "\n",
    "# review_data_1 = load_data(reviews_path_1, \"gzip\")\n",
    "# review_data_2 = load_data(reviews_path_2, \"gzip\")\n",
    "# review_data = pd.concat([review_data_1, review_data_2])\n",
    "review_data = load_data(reviews_path_1)\n",
    "\n",
    "listings_data = load_data(listings_path)\n",
    "finished_data = load_data(finished_path)\n",
    "\n",
    "ic(\"data loaded!\")"
   ]
  },
  {
   "cell_type": "markdown",
   "metadata": {},
   "source": [
    "# Predict ratings"
   ]
  },
  {
   "cell_type": "code",
   "execution_count": 177,
   "metadata": {},
   "outputs": [
    {
     "name": "stderr",
     "output_type": "stream",
     "text": [
      "ic| 194595648.py:23 in <module>\n",
      "    review_data.head():    listing_id      id        date  reviewer_id      reviewer_name  \\\n",
      "                        0       73155  286470  2011-05-29       516906            Daniela   \n",
      "                        1       73155  337681  2011-06-27       570117            Lillian   \n",
      "                        2       73155  358679  2011-07-07       129200  Andre And Rossana   \n",
      "                        3       73155  364109  2011-07-10       660393             Denise   \n",
      "                        4       73155  368273  2011-07-12       232321              Evert   \n",
      "                        \n",
      "                                                                    comments  spacy_rating  \n",
      "                        0  Kim is a great host full of attention and care...             4  \n",
      "                        1  The apartment is really nice, extremely clean ...             5  \n",
      "                        2  Kim is a wonderful host with a beautiful apart...             5  \n",
      "                        3  Kim's place is terrific. The apartment is very...             5  \n",
      "                        4  Most central location you could wish for. Apar...             4  \n"
     ]
    },
    {
     "data": {
      "text/html": [
       "<div>\n",
       "<style scoped>\n",
       "    .dataframe tbody tr th:only-of-type {\n",
       "        vertical-align: middle;\n",
       "    }\n",
       "\n",
       "    .dataframe tbody tr th {\n",
       "        vertical-align: top;\n",
       "    }\n",
       "\n",
       "    .dataframe thead th {\n",
       "        text-align: right;\n",
       "    }\n",
       "</style>\n",
       "<table border=\"1\" class=\"dataframe\">\n",
       "  <thead>\n",
       "    <tr style=\"text-align: right;\">\n",
       "      <th></th>\n",
       "      <th>listing_id</th>\n",
       "      <th>id</th>\n",
       "      <th>date</th>\n",
       "      <th>reviewer_id</th>\n",
       "      <th>reviewer_name</th>\n",
       "      <th>comments</th>\n",
       "      <th>spacy_rating</th>\n",
       "    </tr>\n",
       "  </thead>\n",
       "  <tbody>\n",
       "    <tr>\n",
       "      <th>0</th>\n",
       "      <td>73155</td>\n",
       "      <td>286470</td>\n",
       "      <td>2011-05-29</td>\n",
       "      <td>516906</td>\n",
       "      <td>Daniela</td>\n",
       "      <td>Kim is a great host full of attention and care...</td>\n",
       "      <td>4</td>\n",
       "    </tr>\n",
       "    <tr>\n",
       "      <th>1</th>\n",
       "      <td>73155</td>\n",
       "      <td>337681</td>\n",
       "      <td>2011-06-27</td>\n",
       "      <td>570117</td>\n",
       "      <td>Lillian</td>\n",
       "      <td>The apartment is really nice, extremely clean ...</td>\n",
       "      <td>5</td>\n",
       "    </tr>\n",
       "    <tr>\n",
       "      <th>2</th>\n",
       "      <td>73155</td>\n",
       "      <td>358679</td>\n",
       "      <td>2011-07-07</td>\n",
       "      <td>129200</td>\n",
       "      <td>Andre And Rossana</td>\n",
       "      <td>Kim is a wonderful host with a beautiful apart...</td>\n",
       "      <td>5</td>\n",
       "    </tr>\n",
       "    <tr>\n",
       "      <th>3</th>\n",
       "      <td>73155</td>\n",
       "      <td>364109</td>\n",
       "      <td>2011-07-10</td>\n",
       "      <td>660393</td>\n",
       "      <td>Denise</td>\n",
       "      <td>Kim's place is terrific. The apartment is very...</td>\n",
       "      <td>5</td>\n",
       "    </tr>\n",
       "    <tr>\n",
       "      <th>4</th>\n",
       "      <td>73155</td>\n",
       "      <td>368273</td>\n",
       "      <td>2011-07-12</td>\n",
       "      <td>232321</td>\n",
       "      <td>Evert</td>\n",
       "      <td>Most central location you could wish for. Apar...</td>\n",
       "      <td>4</td>\n",
       "    </tr>\n",
       "  </tbody>\n",
       "</table>\n",
       "</div>"
      ],
      "text/plain": [
       "   listing_id      id        date  reviewer_id      reviewer_name  \\\n",
       "0       73155  286470  2011-05-29       516906            Daniela   \n",
       "1       73155  337681  2011-06-27       570117            Lillian   \n",
       "2       73155  358679  2011-07-07       129200  Andre And Rossana   \n",
       "3       73155  364109  2011-07-10       660393             Denise   \n",
       "4       73155  368273  2011-07-12       232321              Evert   \n",
       "\n",
       "                                            comments  spacy_rating  \n",
       "0  Kim is a great host full of attention and care...             4  \n",
       "1  The apartment is really nice, extremely clean ...             5  \n",
       "2  Kim is a wonderful host with a beautiful apart...             5  \n",
       "3  Kim's place is terrific. The apartment is very...             5  \n",
       "4  Most central location you could wish for. Apar...             4  "
      ]
     },
     "execution_count": 177,
     "metadata": {},
     "output_type": "execute_result"
    }
   ],
   "source": [
    "def predict_rating(df: pd.DataFrame, nlp: spacy.Language, review_column: str = \"comments\") -> pd.DataFrame:\n",
    "\n",
    "    def predict(text: str, nlp: spacy.Language) -> int:\n",
    "        try:\n",
    "            doc = nlp(text)\n",
    "        except ValueError as e:\n",
    "            msg = f\"try to predict: {text} -- wrong type: {type(text)} -- pedictions have to be of type 'str'\"\n",
    "            ic(msg)\n",
    "            doc = False\n",
    "\n",
    "        if doc:\n",
    "            cat_values = list(doc.cats.values())\n",
    "            cat_labels = list(doc.cats.keys())\n",
    "            rating = int(cat_labels[cat_values.index(max(cat_values))])\n",
    "        else:\n",
    "            rating = np.nan\n",
    "        return rating\n",
    "\n",
    "    df[\"spacy_rating\"] = df[review_column].apply(predict, args=(nlp,))\n",
    "    return df\n",
    "\n",
    "review_data = predict_rating(df=review_data, nlp=nlp, review_column=\"comments\")\n",
    "ic(review_data.head())"
   ]
  },
  {
   "cell_type": "markdown",
   "metadata": {},
   "source": [
    "# Combine listings and predicted_ratings"
   ]
  },
  {
   "cell_type": "code",
   "execution_count": 178,
   "metadata": {},
   "outputs": [
    {
     "name": "stderr",
     "output_type": "stream",
     "text": [
      "ic| 654043295.py:3 in <module>- "
     ]
    },
    {
     "name": "stderr",
     "output_type": "stream",
     "text": [
      "'combined!'\n"
     ]
    },
    {
     "data": {
      "text/plain": [
       "'combined!'"
      ]
     },
     "execution_count": 178,
     "metadata": {},
     "output_type": "execute_result"
    }
   ],
   "source": [
    "listings_combined = pd.merge(left=listings_data, right=review_data, left_on=\"listing_id\", right_on=\"listing_id\", how=\"inner\")\n",
    "listings_combined = listings_combined.groupby(\"listing_id\", as_index=False).mean(numeric_only=True)\n",
    "ic(\"combined!\")\n"
   ]
  },
  {
   "cell_type": "markdown",
   "metadata": {},
   "source": [
    "# concat spacy predictions to finished data"
   ]
  },
  {
   "cell_type": "code",
   "execution_count": 179,
   "metadata": {},
   "outputs": [
    {
     "name": "stderr",
     "output_type": "stream",
     "text": [
      "ic| 512271054.py:7 in <module>\n",
      "    f\"wrote file to {output_path}\": ('wrote file to '\n",
      "                                     '..\\\\data\\\\cities\\\\finished\\\\listings_Rotterdam_finished_spacy.csv')\n"
     ]
    }
   ],
   "source": [
    "# only concat if both datasets have equal rowcounts\n",
    "rows_finished = finished_data.shape[0]\n",
    "rows_predicted = listings_combined.shape[0]\n",
    "if rows_finished == rows_predicted:\n",
    "    finished_data[\"spacy_predict_avg\"] = listings_combined[\"spacy_rating\"].apply(lambda x: x)\n",
    "    finished_data.to_csv(output_path, mode=\"w\")\n",
    "    ic(f\"wrote file to {output_path}\")\n",
    "else:\n",
    "    ic(\"cant concat dataframes; unequal row counts\")\n",
    "    ic(f\"rows finished_dataset: {rows_finished} -- rows predicted_dataset: {rows_predicted}\")"
   ]
  },
  {
   "cell_type": "markdown",
   "metadata": {},
   "source": [
    "# Evaluate spacy_predict_avg against true values (review_scores_rating)\n",
    "\n",
    "residual Sum of Squares: $SS_{res} = \\sum_i(y_i - y_{pred, i})^2$ \n",
    "\n",
    "total Sum of Squares: $SS_{tot} = \\sum_i(y_i - \\overline y)^2$\n",
    "\n",
    "Root Mean Square Error: $RMSE = \\sqrt{ \\frac{1}{n} \\sum_i(y_{pred, i} - \\overline y)^2 }$ \n",
    "\n",
    "R-2 Value: $R^2 = 1 - \\frac{SS_{res}}{SS_{tot}}$\n",
    "\n",
    "R-2-b Value: $R^2_b = \\frac{ \\sum_i(y_{pred, i} - \\overline y)^2  }{ \\sum_i (y_i - \\overline y)^2 }$"
   ]
  },
  {
   "cell_type": "code",
   "execution_count": 180,
   "metadata": {},
   "outputs": [
    {
     "name": "stdout",
     "output_type": "stream",
     "text": [
      "==================================================\n",
      "evaluate xgb prediction\n",
      "==================================================\n",
      "RMSE: 0.31690915886024046\n",
      "R-2: -0.01806114278112858\n",
      "R-2-b: 2.3852941326102637e+29\n",
      "==================================================\n",
      "==================================================\n",
      "evaluate rf prediction\n",
      "==================================================\n",
      "RMSE: 0.30572024595014163\n",
      "R-2: 0.05255789582541348\n",
      "R-2-b: 1.7262505892798142e+29\n",
      "==================================================\n",
      "==================================================\n",
      "evaluate spacy prediction\n",
      "==================================================\n",
      "RMSE: 0.6864839782870269\n",
      "R-2: -3.777108350976996\n",
      "R-2-b: 1.6927223581364454e+30\n",
      "==================================================\n"
     ]
    }
   ],
   "source": [
    "def rmse(true_vals: np.ndarray, predicted_vals: np.ndarray) -> float:\n",
    "    SS = np.sum(np.square(predicted_vals - true_vals))\n",
    "    return np.sqrt(SS / len(true_vals))\n",
    "\n",
    "def r_2(true_vals: np.ndarray, predicted_vals: np.ndarray) -> float:\n",
    "    SSres = np.sum(np.square(predicted_vals - true_vals))\n",
    "    SStot = np.sum(np.square(true_vals - np.mean(true_vals)))\n",
    "    return 1 - (SSres / SStot)\n",
    "\n",
    "def r_2_b(true_vals: np.ndarray, predicted_vals: np.ndarray) -> float:\n",
    "    SQE = np.square(np.sum(predicted_vals - np.mean(true_vals)))\n",
    "    SQT = np.square(np.sum(true_vals - np.mean(true_vals)))\n",
    "    return SQE / SQT\n",
    "\n",
    "def print_eval(true_vals: np.ndarray, predicted_vals: np.ndarray, title: str) -> None:\n",
    "    print(\"=\"*50)\n",
    "    print(title)\n",
    "    print(\"=\"*50)\n",
    "    print(f\"RMSE: {rmse(true_vals, predicted_vals)}\")\n",
    "    print(f\"R-2: {r_2(true_vals, predicted_vals)}\")\n",
    "    print(f\"R-2-b: {r_2_b(true_vals, predicted_vals)}\")\n",
    "    print(\"=\"*50)\n",
    "\n",
    "predict_eval = finished_data[[\"review_scores_rating\", \"xgb_predict_avg\", \"rf_predict_avg\", \"spacy_predict_avg\"]]\n",
    "predict_eval\n",
    "\n",
    "true_vals = predict_eval[\"review_scores_rating\"].to_numpy()\n",
    "xgb__prediction = predict_eval[\"xgb_predict_avg\"].to_numpy()\n",
    "rf_prediction = predict_eval[\"rf_predict_avg\"].to_numpy()\n",
    "spacy_prediction = predict_eval[\"spacy_predict_avg\"].to_numpy()\n",
    "\n",
    "print_eval(true_vals, xgb__prediction, \"evaluate xgb prediction\")\n",
    "print_eval(true_vals, rf_prediction, \"evaluate rf prediction\")\n",
    "print_eval(true_vals, spacy_prediction, \"evaluate spacy prediction\")\n"
   ]
  },
  {
   "cell_type": "markdown",
   "metadata": {},
   "source": [
    "# Scatter of predictions"
   ]
  },
  {
   "cell_type": "code",
   "execution_count": 181,
   "metadata": {},
   "outputs": [
    {
     "data": {
      "image/png": "[encoded data removed]",
      "text/plain": [
       "<Figure size 640x480 with 1 Axes>"
      ]
     },
     "metadata": {},
     "output_type": "display_data"
    }
   ],
   "source": [
    "true_vals = predict_eval[\"review_scores_rating\"].sample(frac=0.01, axis=0, random_state=1)\n",
    "xgb_vals = predict_eval[\"xgb_predict_avg\"].sample(frac=0.01, axis=0, random_state=1)\n",
    "rf_vals = predict_eval[\"rf_predict_avg\"].sample(frac=0.01, axis=0, random_state=1)\n",
    "spacy_vals = predict_eval[\"spacy_predict_avg\"].sample(frac=0.01, axis=0, random_state=1)\n",
    "x_axis = range(true_vals.shape[0])\n",
    "fig, ax = plt.subplots()\n",
    "ax.plot(x_axis, true_vals, marker=\"o\", ls=\"\", label=\"true\")\n",
    "ax.plot(x_axis, xgb_vals, marker=\"o\", ls=\"\", label=\"xgb\")\n",
    "ax.plot(x_axis, rf_vals, marker=\"o\", ls=\"\", label=\"rf\")\n",
    "ax.plot(x_axis, spacy_vals, marker=\"o\", ls=\"\", label=\"spacy\")\n",
    "ax.set_ylabel(\"average rating\")\n",
    "ax.legend()\n",
    "fig.tight_layout()\n",
    "plt.show()"
   ]
  },
  {
   "cell_type": "markdown",
   "metadata": {},
   "source": [
    "# Count of prediction averages"
   ]
  },
  {
   "cell_type": "code",
   "execution_count": 182,
   "metadata": {},
   "outputs": [
    {
     "data": {
      "image/png": "[encoded data removed]",
      "text/plain": [
       "<Figure size 640x480 with 1 Axes>"
      ]
     },
     "metadata": {},
     "output_type": "display_data"
    }
   ],
   "source": [
    "def counts(vals: np.ndarray) -> list[int]:\n",
    "    count_1 = list()\n",
    "    count_2 = list()\n",
    "    count_3 = list()\n",
    "    count_4 = list()\n",
    "    count_5 = list()\n",
    "    bucket = list()\n",
    "    for x in vals:\n",
    "        if (0 < x) and ( x <= 1):\n",
    "            count_1.append(x)\n",
    "        elif (1 < x) and (x <= 2):\n",
    "            count_2.append(x)\n",
    "        elif (2 < x) and (x <= 3):\n",
    "            count_3.append(x)\n",
    "        elif (3 < x) and (x <= 4):\n",
    "            count_4.append(x)\n",
    "        elif (4 < x) and (x <= 5):\n",
    "            count_5.append(x)\n",
    "        else:\n",
    "            bucket.append(x)\n",
    "\n",
    "    return [len(count_1), len(count_2), len(count_3), len(count_4), len(count_5)]\n",
    "\n",
    "true_heights = counts(predict_eval[\"review_scores_rating\"].to_numpy())\n",
    "xgb_heights = counts(predict_eval[\"xgb_predict_avg\"].to_numpy())\n",
    "rf_heights = counts(predict_eval[\"rf_predict_avg\"].to_numpy())\n",
    "spacy_heights = counts(predict_eval[\"spacy_predict_avg\"].to_numpy())\n",
    "x_labels = [\"0 < x <= 1\", \"1 < x <= 2\", \"2 < x <= 3\", \"3 < x <= 4\", \"4 < x <= 5\"]\n",
    "x_axis = np.arange(len(x_labels))\n",
    "width = 0.15\n",
    "fig, ax = plt.subplots()\n",
    "ax.bar(x_axis, true_heights, width=width, edgecolor=\"black\", label=\"true\")\n",
    "ax.bar(x_axis + width, xgb_heights, width=width, edgecolor=\"black\", label=\"xgb\")\n",
    "ax.bar(x_axis + 2*width, rf_heights, width=width, edgecolor=\"black\", label=\"rf\")\n",
    "ax.bar(x_axis + 3*width, spacy_heights, width=width, edgecolor=\"black\", label=\"spacy\")\n",
    "ax.set_ylabel(\"counts of average ratings\")\n",
    "ax.set_xticks(x_axis + 1.5*width, x_labels, rotation=45)\n",
    "ax.legend()\n",
    "fig.tight_layout()\n",
    "plt.show()\n"
   ]
  }
 ],
 "metadata": {
  "kernelspec": {
   "display_name": "Python 3",
   "language": "python",
   "name": "python3"
  },
  "language_info": {
   "codemirror_mode": {
    "name": "ipython",
    "version": 3
   },
   "file_extension": ".py",
   "mimetype": "text/x-python",
   "name": "python",
   "nbconvert_exporter": "python",
   "pygments_lexer": "ipython3",
   "version": "3.12.3"
  }
 },
 "nbformat": 4,
 "nbformat_minor": 2
}
