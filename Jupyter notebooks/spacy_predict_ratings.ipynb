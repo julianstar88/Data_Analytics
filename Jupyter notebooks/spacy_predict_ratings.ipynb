{
 "cells": [
  {
   "cell_type": "code",
   "execution_count": 5,
   "metadata": {},
   "outputs": [],
   "source": [
    "import pathlib as pl\n",
    "import pandas as pd\n",
    "import spacy\n",
    "from icecream import ic\n",
    "\n",
    "ic.configureOutput(includeContext=True)"
   ]
  },
  {
   "cell_type": "markdown",
   "metadata": {},
   "source": [
    "# Setup"
   ]
  },
  {
   "cell_type": "code",
   "execution_count": 6,
   "metadata": {},
   "outputs": [
    {
     "name": "stderr",
     "output_type": "stream",
     "text": [
      "c:\\ProgramData\\anaconda3\\envs\\data_analytics\\Lib\\site-packages\\spacy\\util.py:910: UserWarning: [W095] Model 'en_pipeline' (0.0.0) was trained with spaCy v3.7.5 and may not be 100% compatible with the current version (3.7.2). If you see errors or degraded performance, download a newer compatible model or retrain your custom model with the current spaCy version. For more details and available updates, run: python -m spacy validate\n",
      "  warnings.warn(warn_msg)\n",
      "ic| 2480071619.py:10 in <module>- 'paths loaded!'\n"
     ]
    },
    {
     "data": {
      "text/plain": [
       "'paths loaded!'"
      ]
     },
     "execution_count": 6,
     "metadata": {},
     "output_type": "execute_result"
    }
   ],
   "source": [
    "reviews_path_1 = pl.Path(r\"..\\data\\cities\\reviews_Amsterdam_1.csv.gz\")\n",
    "reviews_path_2 = pl.Path(r\"..\\data\\cities\\reviews_Amsterdam_en_2.csv.gz\")\n",
    "listings_path = pl.Path(r\"..\\data\\cities\\processed\\listings_Amsterdam_processed.csv\")\n",
    "nlp = spacy.load(r\"..\\spacy_model\\model-best\")\n",
    "ic(\"paths loaded!\")"
   ]
  },
  {
   "cell_type": "markdown",
   "metadata": {},
   "source": [
    "# Load data"
   ]
  },
  {
   "cell_type": "code",
   "execution_count": 8,
   "metadata": {},
   "outputs": [
    {
     "name": "stderr",
     "output_type": "stream",
     "text": [
      "ic| 2414603899.py:4 in <module>- 'data loaded!'\n"
     ]
    },
    {
     "data": {
      "text/plain": [
       "'data loaded!'"
      ]
     },
     "execution_count": 8,
     "metadata": {},
     "output_type": "execute_result"
    }
   ],
   "source": [
    "review_data_1 = pd.read_csv(reviews_path_1, compression=\"gzip\")\n",
    "review_data_2 = pd.read_csv(reviews_path_2, compression=\"gzip\")\n",
    "listings_data = pd.read_csv(listings_path)\n",
    "ic(\"data loaded!\")"
   ]
  }
 ],
 "metadata": {
  "kernelspec": {
   "display_name": "Python 3",
   "language": "python",
   "name": "python3"
  },
  "language_info": {
   "codemirror_mode": {
    "name": "ipython",
    "version": 3
   },
   "file_extension": ".py",
   "mimetype": "text/x-python",
   "name": "python",
   "nbconvert_exporter": "python",
   "pygments_lexer": "ipython3",
   "version": "3.12.3"
  }
 },
 "nbformat": 4,
 "nbformat_minor": 2
}
