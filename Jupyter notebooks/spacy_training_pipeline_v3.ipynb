{
 "cells": [
  {
   "cell_type": "markdown",
   "metadata": {},
   "source": [
    "# General Part"
   ]
  },
  {
   "cell_type": "markdown",
   "metadata": {},
   "source": [
    "## Imports and Configuration"
   ]
  },
  {
   "cell_type": "code",
   "execution_count": 3,
   "metadata": {},
   "outputs": [],
   "source": [
    "import pandas as pd\n",
    "import numpy as np\n",
    "import matplotlib.pyplot as plt\n",
    "import streamlit as st\n",
    "import pathlib as pl\n",
    "import re\n",
    "import sys\n",
    "from icecream import ic\n",
    "from typing import IO, Tuple, Callable, Dict, Any, Optional\n",
    "\n",
    "import spacy\n",
    "import spacy.tokens\n",
    "\n",
    "plt.style.use('ggplot')\n",
    "ic.configureOutput(includeContext=True)"
   ]
  },
  {
   "cell_type": "markdown",
   "metadata": {},
   "source": [
    "## Functions"
   ]
  },
  {
   "cell_type": "code",
   "execution_count": 4,
   "metadata": {},
   "outputs": [],
   "source": [
    "def convert_data(nlp: spacy.Language, labels: list[str], outfile: pl.Path, data:list) -> None:\n",
    "    db = spacy.tokens.DocBin()\n",
    "    \n",
    "    # convert data do DocBin\n",
    "    for doc, true_label in nlp.pipe(data, as_tuples=True):\n",
    "        cat_values = {label: False for label in labels}\n",
    "        cat_values[true_label] = True\n",
    "        doc.cats = cat_values\n",
    "        db.add(doc)\n",
    "\n",
    "    # save DocBin to disk\n",
    "    db.to_disk(outfile)\n",
    "    print(f\"wrote '{outfile}'\")\n",
    "\n",
    "def convert_to_rating(text: str, nlp: spacy.Language) -> int:\n",
    "    doc = nlp(text)\n",
    "    cat_values = list(doc.cats.values())\n",
    "    cat_labels = list(doc.cats.keys())\n",
    "    rating = int(cat_labels[cat_values.index(max(cat_values))])\n",
    "    return rating\n",
    "\n",
    "def extract_rating(row: str, which: str) -> int:\n",
    "    pattern = re.compile(r\"'{}':\\s?(\\d+\\.\\d+)\".format(which))\n",
    "    match_object = re.search(pattern, row)\n",
    "    if match_object:\n",
    "        rating = float(match_object.group(1))\n",
    "        rating = int(rating)\n",
    "        rating = str(rating)\n",
    "        return rating\n",
    "    else:\n",
    "        return -1"
   ]
  },
  {
   "cell_type": "markdown",
   "metadata": {},
   "source": [
    "# Data Gathering"
   ]
  },
  {
   "cell_type": "markdown",
   "metadata": {},
   "source": [
    "## Loading trainingdata"
   ]
  },
  {
   "cell_type": "code",
   "execution_count": 5,
   "metadata": {},
   "outputs": [
    {
     "name": "stdout",
     "output_type": "stream",
     "text": [
      "shape of training_data_raw: (41981, 3)\n",
      "data types: Review    object\n",
      "Rating     int64\n",
      "Origin    object\n",
      "dtype: object\n"
     ]
    },
    {
     "data": {
      "text/html": [
       "<div>\n",
       "<style scoped>\n",
       "    .dataframe tbody tr th:only-of-type {\n",
       "        vertical-align: middle;\n",
       "    }\n",
       "\n",
       "    .dataframe tbody tr th {\n",
       "        vertical-align: top;\n",
       "    }\n",
       "\n",
       "    .dataframe thead th {\n",
       "        text-align: right;\n",
       "    }\n",
       "</style>\n",
       "<table border=\"1\" class=\"dataframe\">\n",
       "  <thead>\n",
       "    <tr style=\"text-align: right;\">\n",
       "      <th></th>\n",
       "      <th>Review</th>\n",
       "      <th>Rating</th>\n",
       "      <th>Origin</th>\n",
       "    </tr>\n",
       "  </thead>\n",
       "  <tbody>\n",
       "    <tr>\n",
       "      <th>0</th>\n",
       "      <td>nice hotel expensive parking got good deal sta...</td>\n",
       "      <td>4</td>\n",
       "      <td>thedevastator</td>\n",
       "    </tr>\n",
       "    <tr>\n",
       "      <th>1</th>\n",
       "      <td>ok nothing special charge diamond member hilto...</td>\n",
       "      <td>2</td>\n",
       "      <td>thedevastator</td>\n",
       "    </tr>\n",
       "    <tr>\n",
       "      <th>2</th>\n",
       "      <td>nice rooms not 4* experience hotel monaco seat...</td>\n",
       "      <td>3</td>\n",
       "      <td>thedevastator</td>\n",
       "    </tr>\n",
       "    <tr>\n",
       "      <th>3</th>\n",
       "      <td>unique \\tgreat stay \\twonderful time hotel mon...</td>\n",
       "      <td>5</td>\n",
       "      <td>thedevastator</td>\n",
       "    </tr>\n",
       "    <tr>\n",
       "      <th>4</th>\n",
       "      <td>great stay great stay \\twent seahawk game awes...</td>\n",
       "      <td>5</td>\n",
       "      <td>thedevastator</td>\n",
       "    </tr>\n",
       "  </tbody>\n",
       "</table>\n",
       "</div>"
      ],
      "text/plain": [
       "                                              Review  Rating         Origin\n",
       "0  nice hotel expensive parking got good deal sta...       4  thedevastator\n",
       "1  ok nothing special charge diamond member hilto...       2  thedevastator\n",
       "2  nice rooms not 4* experience hotel monaco seat...       3  thedevastator\n",
       "3  unique \\tgreat stay \\twonderful time hotel mon...       5  thedevastator\n",
       "4  great stay great stay \\twent seahawk game awes...       5  thedevastator"
      ]
     },
     "execution_count": 5,
     "metadata": {},
     "output_type": "execute_result"
    }
   ],
   "source": [
    "# file_path = pl.Path(r\"C:\\Users\\milit\\Documents\\python\\Data_Analytics\\ProjectWoche\\Data\\trip_advisor_reviews.zip\")\n",
    "file_path = pl.Path(r\"C:\\Users\\milit\\Desktop\\Alfatraining\\Data_Scientist\\02_Data_Analytics\\04_Projektwoche\\data\\machine_learning\\kaggle_data_reduced.csv.gz\")\n",
    "training_data_raw = pd.read_csv(file_path, compression=\"gzip\")\n",
    "print(f\"shape of training_data_raw: {training_data_raw.shape}\")\n",
    "print(f\"data types: {training_data_raw.dtypes}\")\n",
    "training_data_raw.head()"
   ]
  },
  {
   "cell_type": "markdown",
   "metadata": {},
   "source": [
    "## Prepare trainingdata"
   ]
  },
  {
   "cell_type": "code",
   "execution_count": 6,
   "metadata": {},
   "outputs": [
    {
     "name": "stderr",
     "output_type": "stream",
     "text": [
      "C:\\Users\\milit\\AppData\\Local\\Temp\\ipykernel_14532\\1905672266.py:2: SettingWithCopyWarning: \n",
      "A value is trying to be set on a copy of a slice from a DataFrame.\n",
      "Try using .loc[row_indexer,col_indexer] = value instead\n",
      "\n",
      "See the caveats in the documentation: https://pandas.pydata.org/pandas-docs/stable/user_guide/indexing.html#returning-a-view-versus-a-copy\n",
      "  training_data[\"Rating\"] = training_data[\"Rating\"].apply(lambda x: str(x))\n"
     ]
    }
   ],
   "source": [
    "training_data = training_data_raw[[\"Review\", \"Rating\"]]\n",
    "training_data[\"Rating\"] = training_data[\"Rating\"].apply(lambda x: str(x))\n",
    "\n",
    "# make a training_sample\n",
    "training_sample = training_data.sample(frac=1, axis=0)"
   ]
  },
  {
   "cell_type": "markdown",
   "metadata": {},
   "source": [
    "## Loading predictiondata"
   ]
  },
  {
   "cell_type": "code",
   "execution_count": 7,
   "metadata": {},
   "outputs": [
    {
     "data": {
      "text/html": [
       "<div>\n",
       "<style scoped>\n",
       "    .dataframe tbody tr th:only-of-type {\n",
       "        vertical-align: middle;\n",
       "    }\n",
       "\n",
       "    .dataframe tbody tr th {\n",
       "        vertical-align: top;\n",
       "    }\n",
       "\n",
       "    .dataframe thead th {\n",
       "        text-align: right;\n",
       "    }\n",
       "</style>\n",
       "<table border=\"1\" class=\"dataframe\">\n",
       "  <thead>\n",
       "    <tr style=\"text-align: right;\">\n",
       "      <th></th>\n",
       "      <th>listing_id</th>\n",
       "      <th>id</th>\n",
       "      <th>date</th>\n",
       "      <th>reviewer_id</th>\n",
       "      <th>reviewer_name</th>\n",
       "      <th>comments</th>\n",
       "    </tr>\n",
       "  </thead>\n",
       "  <tbody>\n",
       "    <tr>\n",
       "      <th>0</th>\n",
       "      <td>50904</td>\n",
       "      <td>31511792</td>\n",
       "      <td>2015-05-06</td>\n",
       "      <td>19482395</td>\n",
       "      <td>Jihae</td>\n",
       "      <td>Karin’s “Aplace” is absolutely beautiful and c...</td>\n",
       "    </tr>\n",
       "    <tr>\n",
       "      <th>1</th>\n",
       "      <td>50904</td>\n",
       "      <td>470101024356869935</td>\n",
       "      <td>2021-10-10</td>\n",
       "      <td>333559</td>\n",
       "      <td>Emilie</td>\n",
       "      <td>Karin is a wonderful host, she was really help...</td>\n",
       "    </tr>\n",
       "    <tr>\n",
       "      <th>2</th>\n",
       "      <td>50904</td>\n",
       "      <td>627287279025726941</td>\n",
       "      <td>2022-05-15</td>\n",
       "      <td>32701854</td>\n",
       "      <td>Marie-Lou</td>\n",
       "      <td>The location is super super nice! Karin was al...</td>\n",
       "    </tr>\n",
       "    <tr>\n",
       "      <th>3</th>\n",
       "      <td>224682</td>\n",
       "      <td>933043</td>\n",
       "      <td>2012-02-20</td>\n",
       "      <td>1422043</td>\n",
       "      <td>Hiske &amp; Erik</td>\n",
       "      <td>Perfect location for exploring the city, close...</td>\n",
       "    </tr>\n",
       "    <tr>\n",
       "      <th>4</th>\n",
       "      <td>224682</td>\n",
       "      <td>970457</td>\n",
       "      <td>2012-03-05</td>\n",
       "      <td>1493171</td>\n",
       "      <td>Paolo</td>\n",
       "      <td>Muriel was such a fantastic host, extremely he...</td>\n",
       "    </tr>\n",
       "  </tbody>\n",
       "</table>\n",
       "</div>"
      ],
      "text/plain": [
       "   listing_id                  id        date  reviewer_id reviewer_name  \\\n",
       "0       50904            31511792  2015-05-06     19482395         Jihae   \n",
       "1       50904  470101024356869935  2021-10-10       333559        Emilie   \n",
       "2       50904  627287279025726941  2022-05-15     32701854     Marie-Lou   \n",
       "3      224682              933043  2012-02-20      1422043  Hiske & Erik   \n",
       "4      224682              970457  2012-03-05      1493171         Paolo   \n",
       "\n",
       "                                            comments  \n",
       "0  Karin’s “Aplace” is absolutely beautiful and c...  \n",
       "1  Karin is a wonderful host, she was really help...  \n",
       "2  The location is super super nice! Karin was al...  \n",
       "3  Perfect location for exploring the city, close...  \n",
       "4  Muriel was such a fantastic host, extremely he...  "
      ]
     },
     "execution_count": 7,
     "metadata": {},
     "output_type": "execute_result"
    }
   ],
   "source": [
    "file_path = pl.Path(r\"C:\\Users\\milit\\Desktop\\Alfatraining\\Data_Scientist\\02_Data_Analytics\\04_Projektwoche\\data\\cities\\reviews_Antwerp_en.csv.gz\")\n",
    "prediction_data_raw = pd.read_csv(file_path, compression=\"gzip\")\n",
    "prediction_data_raw.head()"
   ]
  },
  {
   "cell_type": "markdown",
   "metadata": {},
   "source": [
    "## Exploring predictiondata"
   ]
  },
  {
   "cell_type": "code",
   "execution_count": 8,
   "metadata": {},
   "outputs": [
    {
     "name": "stdout",
     "output_type": "stream",
     "text": [
      "Shape of the predictiondata: {prediction_data.shape}\n",
      "exploring missing values for col 'comments'\n",
      "missing values ratings: 0.0%\n"
     ]
    },
    {
     "name": "stderr",
     "output_type": "stream",
     "text": [
      "C:\\Users\\milit\\AppData\\Local\\Temp\\ipykernel_14532\\4137803568.py:2: SettingWithCopyWarning: \n",
      "A value is trying to be set on a copy of a slice from a DataFrame.\n",
      "Try using .loc[row_indexer,col_indexer] = value instead\n",
      "\n",
      "See the caveats in the documentation: https://pandas.pydata.org/pandas-docs/stable/user_guide/indexing.html#returning-a-view-versus-a-copy\n",
      "  prediction_data[\"pedicted_rating\"] = prediction_data.apply(lambda row: -1)\n"
     ]
    }
   ],
   "source": [
    "prediction_data = prediction_data_raw[[\"reviewer_name\", \"comments\"]]\n",
    "prediction_data[\"pedicted_rating\"] = prediction_data.apply(lambda row: -1)\n",
    "prediction_data.head()\n",
    "\n",
    "print(\"Shape of the predictiondata: {prediction_data.shape}\")\n",
    "\n",
    "missing_values_comments = prediction_data[prediction_data[\"comments\"].isna()]\n",
    "print(\"exploring missing values for col 'comments'\")\n",
    "print(f\"missing values ratings: {missing_values_comments.shape[0] / prediction_data['comments'].shape[0]}%\")"
   ]
  },
  {
   "cell_type": "markdown",
   "metadata": {},
   "source": [
    "## Prepare predictiondata"
   ]
  },
  {
   "cell_type": "code",
   "execution_count": 9,
   "metadata": {},
   "outputs": [],
   "source": [
    "\n",
    "# get a random sample from original data for testing purpose\n",
    "prediction_sample = prediction_data.sample(frac=1, axis=0)"
   ]
  },
  {
   "cell_type": "markdown",
   "metadata": {},
   "source": [
    "# Training Setup"
   ]
  },
  {
   "cell_type": "markdown",
   "metadata": {},
   "source": [
    "## setup spacy pipeline"
   ]
  },
  {
   "cell_type": "code",
   "execution_count": 15,
   "metadata": {},
   "outputs": [],
   "source": [
    "nlp = spacy.blank(\"en\")\n",
    "# nlp = spacy.load(\"en_core_web_lg\")"
   ]
  },
  {
   "cell_type": "markdown",
   "metadata": {},
   "source": [
    "## create base_config.cfg"
   ]
  },
  {
   "cell_type": "code",
   "execution_count": 17,
   "metadata": {},
   "outputs": [
    {
     "name": "stdout",
     "output_type": "stream",
     "text": [
      "\u001b[38;5;3m⚠ To generate a more effective transformer-based config (GPU-only),\n",
      "install the spacy-transformers package and re-run this command. The config\n",
      "generated now does not use transformers.\u001b[0m\n",
      "\u001b[38;5;4mℹ Generated config template specific for your use case\u001b[0m\n",
      "- Language: en\n",
      "- Pipeline: textcat\n",
      "- Optimize for: efficiency\n",
      "- Hardware: CPU\n",
      "- Transformer: None\n",
      "\u001b[38;5;2m✔ Auto-filled config with all values\u001b[0m\n",
      "\u001b[38;5;2m✔ Saved config\u001b[0m\n",
      "C:\\Users\\milit\\Desktop\\Alfatraining\\Data_Scientist\\02_Data_Analytics\\04_Projekt_Woche\\spacy_config\\base_config.cfg\n",
      "You can now add your data and train your pipeline:\n",
      "python -m spacy train base_config.cfg --paths.train ./train.spacy --paths.dev ./dev.spacy\n"
     ]
    }
   ],
   "source": [
    "config_path = pl.Path(r\"C:\\Users\\milit\\Desktop\\Alfatraining\\Data_Scientist\\02_Data_Analytics\\04_Projekt_Woche\\spacy_config\")\n",
    "base_config_file = pl.Path(\"base_config.cfg\")\n",
    "!python -m spacy init config {config_path/base_config_file} --pipeline textcat --optimize efficiency --force"
   ]
  },
  {
   "cell_type": "markdown",
   "metadata": {},
   "source": [
    "## create config.cfg from base_config.cfg and fill with default values"
   ]
  },
  {
   "cell_type": "code",
   "execution_count": 18,
   "metadata": {},
   "outputs": [
    {
     "name": "stdout",
     "output_type": "stream",
     "text": [
      "\u001b[38;5;3m⚠ Nothing to auto-fill: base config is already complete\u001b[0m\n",
      "\u001b[38;5;2m✔ Saved config\u001b[0m\n",
      "C:\\Users\\milit\\Desktop\\Alfatraining\\Data_Scientist\\02_Data_Analytics\\04_Projekt_Woche\\spacy_config\\config.cfg\n",
      "You can now add your data and train your pipeline:\n",
      "python -m spacy train config.cfg --paths.train ./train.spacy --paths.dev ./dev.spacy\n"
     ]
    }
   ],
   "source": [
    "config_file = pl.Path(\"config.cfg\")\n",
    "!python -m spacy init fill-config {config_path/base_config_file} {config_path/config_file}"
   ]
  },
  {
   "cell_type": "markdown",
   "metadata": {},
   "source": [
    "## prepare training data"
   ]
  },
  {
   "cell_type": "code",
   "execution_count": 30,
   "metadata": {},
   "outputs": [
    {
     "name": "stdout",
     "output_type": "stream",
     "text": [
      "len train data: 31485\n",
      "len dev data: 6297\n",
      "len test data: 4199\n"
     ]
    }
   ],
   "source": [
    "train_path = pl.Path(r\"C:\\Users\\milit\\Desktop\\Alfatraining\\Data_Scientist\\02_Data_Analytics\\04_Projektwoche\\spacy_train\")\n",
    "train_file = pl.Path(\"train.spacy\")\n",
    "dev_file = pl.Path(\"dev.spacy\")\n",
    "test_file = pl.Path(\"test.spacy\")\n",
    "labels = [\"1\", \"2\", \"3\", \"4\", \"5\"]\n",
    "train_split = 0.75\n",
    "dev_split = 0.9\n",
    "\n",
    "# convert data to list and shuffle the data\n",
    "training_sample_list = list(\n",
    "    training_sample[[\"Review\", \"Rating\"]].sample(frac=1).itertuples(index=False, name=None)\n",
    ")\n",
    "\n",
    "# split the data into training-, evaluation-, and testdata\n",
    "train_split = int(train_split * len(training_sample_list))\n",
    "dev_split = int(dev_split * len(training_sample_list))\n",
    "train_data = training_sample_list[:train_split]\n",
    "dev_data = training_sample_list[train_split:dev_split]\n",
    "test_data = training_sample_list[dev_split:]\n",
    "print(f\"len train data: {len(train_data)}\")\n",
    "print(f\"len dev data: {len(dev_data)}\")\n",
    "print(f\"len test data: {len(test_data)}\")"
   ]
  },
  {
   "cell_type": "code",
   "execution_count": 31,
   "metadata": {},
   "outputs": [
    {
     "name": "stdout",
     "output_type": "stream",
     "text": [
      "worte 'C:\\Users\\milit\\Desktop\\Alfatraining\\Data_Scientist\\02_Data_Analytics\\04_Projektwoche\\spacy_train\\train.spacy'\n",
      "worte 'C:\\Users\\milit\\Desktop\\Alfatraining\\Data_Scientist\\02_Data_Analytics\\04_Projektwoche\\spacy_train\\dev.spacy'\n",
      "worte 'C:\\Users\\milit\\Desktop\\Alfatraining\\Data_Scientist\\02_Data_Analytics\\04_Projektwoche\\spacy_train\\test.spacy'\n"
     ]
    }
   ],
   "source": [
    "# convert training data\n",
    "convert_data(\n",
    "    nlp=nlp,\n",
    "    labels=labels,\n",
    "    outfile=train_path / train_file, \n",
    "    data=train_data, \n",
    ")\n",
    "\n",
    "# convert dev data\n",
    "convert_data(\n",
    "    nlp=nlp,\n",
    "    labels=labels,\n",
    "    outfile=train_path / dev_file, \n",
    "    data=dev_data, \n",
    ")\n",
    "\n",
    "# convert test data\n",
    "convert_data(\n",
    "    nlp=nlp,\n",
    "    labels=labels,\n",
    "    outfile=train_path / test_file, \n",
    "    data=test_data, \n",
    ")"
   ]
  },
  {
   "cell_type": "markdown",
   "metadata": {},
   "source": [
    "## Train model"
   ]
  },
  {
   "cell_type": "code",
   "execution_count": null,
   "metadata": {},
   "outputs": [],
   "source": [
    "# output_path = pl.Path(r\"C:\\Users\\milit\\Desktop\\Alfatraining\\Data_Scientist\\02_Data_Analytics\\04_Projekt_Woche\\spacy_model\")\n",
    "# functions_path = pl.Path(r\"C:\\Users\\milit\\Desktop\\Alfatraining\\Data_Scientist\\02_Data_Analytics\\04_Projekt_Woche\\spacy_functions.py\")\n",
    "# !python -m spacy train {config_path/config_file} --paths.train {train_path/train_file} --paths.dev {train_path/dev_file} --output {output_path} --verbose --code {functions_path}"
   ]
  },
  {
   "cell_type": "markdown",
   "metadata": {},
   "source": [
    "## Evaluate the model"
   ]
  },
  {
   "cell_type": "code",
   "execution_count": 4,
   "metadata": {},
   "outputs": [
    {
     "name": "stdout",
     "output_type": "stream",
     "text": [
      "\u001b[38;5;4mℹ Using CPU\u001b[0m"
     ]
    },
    {
     "name": "stderr",
     "output_type": "stream",
     "text": [
      "c:\\ProgramData\\anaconda3\\envs\\data_analytics\\Lib\\site-packages\\spacy\\util.py:910: UserWarning: [W095] Model 'en_pipeline' (0.0.0) was trained with spaCy v3.7.5 and may not be 100% compatible with the current version (3.7.2). If you see errors or degraded performance, download a newer compatible model or retrain your custom model with the current spaCy version. For more details and available updates, run: python -m spacy validate\n",
      "  warnings.warn(warn_msg)\n"
     ]
    },
    {
     "name": "stdout",
     "output_type": "stream",
     "text": [
      "\n",
      "\u001b[1m\n",
      "================================== Results ==================================\u001b[0m\n",
      "\n",
      "TOK                 100.00\n",
      "TEXTCAT (macro F)   80.34 \n",
      "SPEED               14042 \n",
      "\n",
      "\u001b[1m\n",
      "=========================== Textcat F (per label) ===========================\u001b[0m\n",
      "\n",
      "        P       R       F\n",
      "1   89.49   86.84   88.15\n",
      "2   80.06   77.71   78.87\n",
      "3   78.97   66.81   72.39\n",
      "4   76.06   73.40   74.71\n",
      "5   84.82   90.59   87.61\n",
      "\n",
      "\u001b[1m\n",
      "======================== Textcat ROC AUC (per label) ========================\u001b[0m\n",
      "\n",
      "    ROC AUC\n",
      "1      0.99\n",
      "2      0.96\n",
      "3      0.92\n",
      "4      0.90\n",
      "5      0.94\n",
      "\n"
     ]
    }
   ],
   "source": [
    "model_path = pl.Path(r\"C:\\Users\\milit\\Desktop\\Alfatraining\\Data_Scientist\\02_Data_Analytics\\04_Projektwoche\\spacy_model\")\n",
    "train_path = pl.Path(r\"C:\\Users\\milit\\Desktop\\Alfatraining\\Data_Scientist\\02_Data_Analytics\\04_Projektwoche\\spacy_train\")\n",
    "test_file = \"test.spacy\"\n",
    "model_file = \"model-best\"\n",
    "!python -m spacy benchmark accuracy {model_path/model_file} {train_path/test_file}"
   ]
  },
  {
   "cell_type": "markdown",
   "metadata": {},
   "source": [
    "## Make predictions"
   ]
  },
  {
   "cell_type": "code",
   "execution_count": 10,
   "metadata": {},
   "outputs": [
    {
     "name": "stderr",
     "output_type": "stream",
     "text": [
      "c:\\ProgramData\\anaconda3\\envs\\data_analytics\\Lib\\site-packages\\spacy\\util.py:910: UserWarning: [W095] Model 'en_pipeline' (0.0.0) was trained with spaCy v3.7.5 and may not be 100% compatible with the current version (3.7.2). If you see errors or degraded performance, download a newer compatible model or retrain your custom model with the current spaCy version. For more details and available updates, run: python -m spacy validate\n",
      "  warnings.warn(warn_msg)\n"
     ]
    },
    {
     "name": "stdout",
     "output_type": "stream",
     "text": [
      "pedict rating for good texts\n",
      "rating: {'1': 0.16812527179718018, '2': 0.09771882742643356, '3': 0.05122455209493637, '4': 0.2534002959728241, '5': 0.429531067609787} -- text: this is a very beautiful place for a stay in this lovely city\n",
      "pedict rating for bad texts\n",
      "rating: {'1': 0.4252203702926636, '2': 0.2597227096557617, '3': 0.1788870096206665, '4': 0.08237838745117188, '5': 0.05379154160618782} -- text: A really, really terrible place \n"
     ]
    }
   ],
   "source": [
    "# load the model with highest accuracy\n",
    "nlp = spacy.load(r\"C:\\Users\\milit\\Desktop\\Alfatraining\\Data_Scientist\\02_Data_Analytics\\04_Projektwoche\\spacy_model\\model-best\")\n",
    "\n",
    "# test a simple expression before predicting AirBnB-ratings\n",
    "texts_good = [\"this is a very beautiful place for a stay in this lovely city\"]\n",
    "texts_bad = [\"A really, really terrible place \"]\n",
    "\n",
    "print(\"pedict rating for good texts\")\n",
    "for text in texts_good:\n",
    "    doc = nlp(text)\n",
    "    print(f\"rating: {doc.cats} -- text: {text}\")\n",
    "\n",
    "print(\"pedict rating for bad texts\")\n",
    "for text in texts_bad:\n",
    "    doc = nlp(text)\n",
    "    print(f\"rating: {doc.cats} -- text: {text}\")\n",
    "\n",
    "\n",
    "# finally predict the AirBnB ratings\n",
    "prediction_sample[\"pedicted_rating\"] = prediction_sample[\"comments\"].apply(convert_to_rating, args=(nlp,))"
   ]
  },
  {
   "cell_type": "markdown",
   "metadata": {},
   "source": []
  }
 ],
 "metadata": {
  "kernelspec": {
   "display_name": "data_analytics",
   "language": "python",
   "name": "python3"
  },
  "language_info": {
   "codemirror_mode": {
    "name": "ipython",
    "version": 3
   },
   "file_extension": ".py",
   "mimetype": "text/x-python",
   "name": "python",
   "nbconvert_exporter": "python",
   "pygments_lexer": "ipython3",
   "version": "3.12.3"
  }
 },
 "nbformat": 4,
 "nbformat_minor": 2
}
